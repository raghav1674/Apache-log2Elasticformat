{
  "nbformat": 4,
  "nbformat_minor": 0,
  "metadata": {
    "colab": {
      "name": "Untitled18.ipynb",
      "provenance": [],
      "collapsed_sections": [],
      "authorship_tag": "ABX9TyPhFJYQlPzwALLL9Fx/iivT",
      "include_colab_link": true
    },
    "kernelspec": {
      "name": "python3",
      "display_name": "Python 3"
    }
  },
  "cells": [
    {
      "cell_type": "markdown",
      "metadata": {
        "id": "view-in-github",
        "colab_type": "text"
      },
      "source": [
        "<a href=\"https://colab.research.google.com/github/raghav1674/Apache-log2Elasticformat/blob/master/USA_HOUSE_PREDICTION_USING_NN.ipynb\" target=\"_parent\"><img src=\"https://colab.research.google.com/assets/colab-badge.svg\" alt=\"Open In Colab\"/></a>"
      ]
    },
    {
      "cell_type": "markdown",
      "metadata": {
        "id": "aPNQNV3axGAl",
        "colab_type": "text"
      },
      "source": [
        "# Importing Libraries"
      ]
    },
    {
      "cell_type": "code",
      "metadata": {
        "id": "0KIY-5zW-0JQ",
        "colab_type": "code",
        "colab": {}
      },
      "source": [
        "import pandas as pd\n",
        "import numpy as np\n",
        "import matplotlib.pyplot as plt\n",
        "% matplotlib inline"
      ],
      "execution_count": 124,
      "outputs": []
    },
    {
      "cell_type": "markdown",
      "metadata": {
        "id": "fmrEmOalxNQq",
        "colab_type": "text"
      },
      "source": [
        "## Loading data"
      ]
    },
    {
      "cell_type": "code",
      "metadata": {
        "id": "hKdhfTQn_37N",
        "colab_type": "code",
        "colab": {}
      },
      "source": [
        "df=pd.read_csv(r'/content/kc_house_data.csv')"
      ],
      "execution_count": 125,
      "outputs": []
    },
    {
      "cell_type": "code",
      "metadata": {
        "id": "it1r12lIAFRF",
        "colab_type": "code",
        "colab": {
          "base_uri": "https://localhost:8080/",
          "height": 215
        },
        "outputId": "03b43d0f-204f-47ff-db28-fa0bbff0ba1c"
      },
      "source": [
        "df.head()"
      ],
      "execution_count": 126,
      "outputs": [
        {
          "output_type": "execute_result",
          "data": {
            "text/html": [
              "<div>\n",
              "<style scoped>\n",
              "    .dataframe tbody tr th:only-of-type {\n",
              "        vertical-align: middle;\n",
              "    }\n",
              "\n",
              "    .dataframe tbody tr th {\n",
              "        vertical-align: top;\n",
              "    }\n",
              "\n",
              "    .dataframe thead th {\n",
              "        text-align: right;\n",
              "    }\n",
              "</style>\n",
              "<table border=\"1\" class=\"dataframe\">\n",
              "  <thead>\n",
              "    <tr style=\"text-align: right;\">\n",
              "      <th></th>\n",
              "      <th>id</th>\n",
              "      <th>date</th>\n",
              "      <th>price</th>\n",
              "      <th>bedrooms</th>\n",
              "      <th>bathrooms</th>\n",
              "      <th>sqft_living</th>\n",
              "      <th>sqft_lot</th>\n",
              "      <th>floors</th>\n",
              "      <th>waterfront</th>\n",
              "      <th>view</th>\n",
              "      <th>condition</th>\n",
              "      <th>grade</th>\n",
              "      <th>sqft_above</th>\n",
              "      <th>sqft_basement</th>\n",
              "      <th>yr_built</th>\n",
              "      <th>yr_renovated</th>\n",
              "      <th>zipcode</th>\n",
              "      <th>lat</th>\n",
              "      <th>long</th>\n",
              "      <th>sqft_living15</th>\n",
              "      <th>sqft_lot15</th>\n",
              "    </tr>\n",
              "  </thead>\n",
              "  <tbody>\n",
              "    <tr>\n",
              "      <th>0</th>\n",
              "      <td>7129300520</td>\n",
              "      <td>20141013T000000</td>\n",
              "      <td>221900.0</td>\n",
              "      <td>3</td>\n",
              "      <td>1.00</td>\n",
              "      <td>1180</td>\n",
              "      <td>5650</td>\n",
              "      <td>1.0</td>\n",
              "      <td>0</td>\n",
              "      <td>0</td>\n",
              "      <td>3</td>\n",
              "      <td>7</td>\n",
              "      <td>1180</td>\n",
              "      <td>0</td>\n",
              "      <td>1955</td>\n",
              "      <td>0</td>\n",
              "      <td>98178</td>\n",
              "      <td>47.5112</td>\n",
              "      <td>-122.257</td>\n",
              "      <td>1340</td>\n",
              "      <td>5650</td>\n",
              "    </tr>\n",
              "    <tr>\n",
              "      <th>1</th>\n",
              "      <td>6414100192</td>\n",
              "      <td>20141209T000000</td>\n",
              "      <td>538000.0</td>\n",
              "      <td>3</td>\n",
              "      <td>2.25</td>\n",
              "      <td>2570</td>\n",
              "      <td>7242</td>\n",
              "      <td>2.0</td>\n",
              "      <td>0</td>\n",
              "      <td>0</td>\n",
              "      <td>3</td>\n",
              "      <td>7</td>\n",
              "      <td>2170</td>\n",
              "      <td>400</td>\n",
              "      <td>1951</td>\n",
              "      <td>1991</td>\n",
              "      <td>98125</td>\n",
              "      <td>47.7210</td>\n",
              "      <td>-122.319</td>\n",
              "      <td>1690</td>\n",
              "      <td>7639</td>\n",
              "    </tr>\n",
              "    <tr>\n",
              "      <th>2</th>\n",
              "      <td>5631500400</td>\n",
              "      <td>20150225T000000</td>\n",
              "      <td>180000.0</td>\n",
              "      <td>2</td>\n",
              "      <td>1.00</td>\n",
              "      <td>770</td>\n",
              "      <td>10000</td>\n",
              "      <td>1.0</td>\n",
              "      <td>0</td>\n",
              "      <td>0</td>\n",
              "      <td>3</td>\n",
              "      <td>6</td>\n",
              "      <td>770</td>\n",
              "      <td>0</td>\n",
              "      <td>1933</td>\n",
              "      <td>0</td>\n",
              "      <td>98028</td>\n",
              "      <td>47.7379</td>\n",
              "      <td>-122.233</td>\n",
              "      <td>2720</td>\n",
              "      <td>8062</td>\n",
              "    </tr>\n",
              "    <tr>\n",
              "      <th>3</th>\n",
              "      <td>2487200875</td>\n",
              "      <td>20141209T000000</td>\n",
              "      <td>604000.0</td>\n",
              "      <td>4</td>\n",
              "      <td>3.00</td>\n",
              "      <td>1960</td>\n",
              "      <td>5000</td>\n",
              "      <td>1.0</td>\n",
              "      <td>0</td>\n",
              "      <td>0</td>\n",
              "      <td>5</td>\n",
              "      <td>7</td>\n",
              "      <td>1050</td>\n",
              "      <td>910</td>\n",
              "      <td>1965</td>\n",
              "      <td>0</td>\n",
              "      <td>98136</td>\n",
              "      <td>47.5208</td>\n",
              "      <td>-122.393</td>\n",
              "      <td>1360</td>\n",
              "      <td>5000</td>\n",
              "    </tr>\n",
              "    <tr>\n",
              "      <th>4</th>\n",
              "      <td>1954400510</td>\n",
              "      <td>20150218T000000</td>\n",
              "      <td>510000.0</td>\n",
              "      <td>3</td>\n",
              "      <td>2.00</td>\n",
              "      <td>1680</td>\n",
              "      <td>8080</td>\n",
              "      <td>1.0</td>\n",
              "      <td>0</td>\n",
              "      <td>0</td>\n",
              "      <td>3</td>\n",
              "      <td>8</td>\n",
              "      <td>1680</td>\n",
              "      <td>0</td>\n",
              "      <td>1987</td>\n",
              "      <td>0</td>\n",
              "      <td>98074</td>\n",
              "      <td>47.6168</td>\n",
              "      <td>-122.045</td>\n",
              "      <td>1800</td>\n",
              "      <td>7503</td>\n",
              "    </tr>\n",
              "  </tbody>\n",
              "</table>\n",
              "</div>"
            ],
            "text/plain": [
              "           id             date     price  ...     long  sqft_living15  sqft_lot15\n",
              "0  7129300520  20141013T000000  221900.0  ... -122.257           1340        5650\n",
              "1  6414100192  20141209T000000  538000.0  ... -122.319           1690        7639\n",
              "2  5631500400  20150225T000000  180000.0  ... -122.233           2720        8062\n",
              "3  2487200875  20141209T000000  604000.0  ... -122.393           1360        5000\n",
              "4  1954400510  20150218T000000  510000.0  ... -122.045           1800        7503\n",
              "\n",
              "[5 rows x 21 columns]"
            ]
          },
          "metadata": {
            "tags": []
          },
          "execution_count": 126
        }
      ]
    },
    {
      "cell_type": "markdown",
      "metadata": {
        "id": "3yv6a1xqxT41",
        "colab_type": "text"
      },
      "source": [
        "## EXPLORATORY DATA ANALYSIS"
      ]
    },
    {
      "cell_type": "code",
      "metadata": {
        "id": "2aonbjBLAGh8",
        "colab_type": "code",
        "colab": {}
      },
      "source": [
        "import seaborn as sns\n"
      ],
      "execution_count": 127,
      "outputs": []
    },
    {
      "cell_type": "code",
      "metadata": {
        "id": "ZN8IDnLcAKqO",
        "colab_type": "code",
        "colab": {
          "base_uri": "https://localhost:8080/",
          "height": 304
        },
        "outputId": "b519bf90-63d2-4ade-e117-05c8aa68e985"
      },
      "source": [
        "df.describe()"
      ],
      "execution_count": 128,
      "outputs": [
        {
          "output_type": "execute_result",
          "data": {
            "text/html": [
              "<div>\n",
              "<style scoped>\n",
              "    .dataframe tbody tr th:only-of-type {\n",
              "        vertical-align: middle;\n",
              "    }\n",
              "\n",
              "    .dataframe tbody tr th {\n",
              "        vertical-align: top;\n",
              "    }\n",
              "\n",
              "    .dataframe thead th {\n",
              "        text-align: right;\n",
              "    }\n",
              "</style>\n",
              "<table border=\"1\" class=\"dataframe\">\n",
              "  <thead>\n",
              "    <tr style=\"text-align: right;\">\n",
              "      <th></th>\n",
              "      <th>id</th>\n",
              "      <th>price</th>\n",
              "      <th>bedrooms</th>\n",
              "      <th>bathrooms</th>\n",
              "      <th>sqft_living</th>\n",
              "      <th>sqft_lot</th>\n",
              "      <th>floors</th>\n",
              "      <th>waterfront</th>\n",
              "      <th>view</th>\n",
              "      <th>condition</th>\n",
              "      <th>grade</th>\n",
              "      <th>sqft_above</th>\n",
              "      <th>sqft_basement</th>\n",
              "      <th>yr_built</th>\n",
              "      <th>yr_renovated</th>\n",
              "      <th>zipcode</th>\n",
              "      <th>lat</th>\n",
              "      <th>long</th>\n",
              "      <th>sqft_living15</th>\n",
              "      <th>sqft_lot15</th>\n",
              "    </tr>\n",
              "  </thead>\n",
              "  <tbody>\n",
              "    <tr>\n",
              "      <th>count</th>\n",
              "      <td>2.161300e+04</td>\n",
              "      <td>2.161300e+04</td>\n",
              "      <td>21613.000000</td>\n",
              "      <td>21613.000000</td>\n",
              "      <td>21613.000000</td>\n",
              "      <td>2.161300e+04</td>\n",
              "      <td>21613.000000</td>\n",
              "      <td>21613.000000</td>\n",
              "      <td>21613.000000</td>\n",
              "      <td>21613.000000</td>\n",
              "      <td>21613.000000</td>\n",
              "      <td>21613.000000</td>\n",
              "      <td>21613.000000</td>\n",
              "      <td>21613.000000</td>\n",
              "      <td>21613.000000</td>\n",
              "      <td>21613.000000</td>\n",
              "      <td>21613.000000</td>\n",
              "      <td>21613.000000</td>\n",
              "      <td>21613.000000</td>\n",
              "      <td>21613.000000</td>\n",
              "    </tr>\n",
              "    <tr>\n",
              "      <th>mean</th>\n",
              "      <td>4.580302e+09</td>\n",
              "      <td>5.400881e+05</td>\n",
              "      <td>3.370842</td>\n",
              "      <td>2.114757</td>\n",
              "      <td>2079.899736</td>\n",
              "      <td>1.510697e+04</td>\n",
              "      <td>1.494309</td>\n",
              "      <td>0.007542</td>\n",
              "      <td>0.234303</td>\n",
              "      <td>3.409430</td>\n",
              "      <td>7.656873</td>\n",
              "      <td>1788.390691</td>\n",
              "      <td>291.509045</td>\n",
              "      <td>1971.005136</td>\n",
              "      <td>84.402258</td>\n",
              "      <td>98077.939805</td>\n",
              "      <td>47.560053</td>\n",
              "      <td>-122.213896</td>\n",
              "      <td>1986.552492</td>\n",
              "      <td>12768.455652</td>\n",
              "    </tr>\n",
              "    <tr>\n",
              "      <th>std</th>\n",
              "      <td>2.876566e+09</td>\n",
              "      <td>3.671272e+05</td>\n",
              "      <td>0.930062</td>\n",
              "      <td>0.770163</td>\n",
              "      <td>918.440897</td>\n",
              "      <td>4.142051e+04</td>\n",
              "      <td>0.539989</td>\n",
              "      <td>0.086517</td>\n",
              "      <td>0.766318</td>\n",
              "      <td>0.650743</td>\n",
              "      <td>1.175459</td>\n",
              "      <td>828.090978</td>\n",
              "      <td>442.575043</td>\n",
              "      <td>29.373411</td>\n",
              "      <td>401.679240</td>\n",
              "      <td>53.505026</td>\n",
              "      <td>0.138564</td>\n",
              "      <td>0.140828</td>\n",
              "      <td>685.391304</td>\n",
              "      <td>27304.179631</td>\n",
              "    </tr>\n",
              "    <tr>\n",
              "      <th>min</th>\n",
              "      <td>1.000102e+06</td>\n",
              "      <td>7.500000e+04</td>\n",
              "      <td>0.000000</td>\n",
              "      <td>0.000000</td>\n",
              "      <td>290.000000</td>\n",
              "      <td>5.200000e+02</td>\n",
              "      <td>1.000000</td>\n",
              "      <td>0.000000</td>\n",
              "      <td>0.000000</td>\n",
              "      <td>1.000000</td>\n",
              "      <td>1.000000</td>\n",
              "      <td>290.000000</td>\n",
              "      <td>0.000000</td>\n",
              "      <td>1900.000000</td>\n",
              "      <td>0.000000</td>\n",
              "      <td>98001.000000</td>\n",
              "      <td>47.155900</td>\n",
              "      <td>-122.519000</td>\n",
              "      <td>399.000000</td>\n",
              "      <td>651.000000</td>\n",
              "    </tr>\n",
              "    <tr>\n",
              "      <th>25%</th>\n",
              "      <td>2.123049e+09</td>\n",
              "      <td>3.219500e+05</td>\n",
              "      <td>3.000000</td>\n",
              "      <td>1.750000</td>\n",
              "      <td>1427.000000</td>\n",
              "      <td>5.040000e+03</td>\n",
              "      <td>1.000000</td>\n",
              "      <td>0.000000</td>\n",
              "      <td>0.000000</td>\n",
              "      <td>3.000000</td>\n",
              "      <td>7.000000</td>\n",
              "      <td>1190.000000</td>\n",
              "      <td>0.000000</td>\n",
              "      <td>1951.000000</td>\n",
              "      <td>0.000000</td>\n",
              "      <td>98033.000000</td>\n",
              "      <td>47.471000</td>\n",
              "      <td>-122.328000</td>\n",
              "      <td>1490.000000</td>\n",
              "      <td>5100.000000</td>\n",
              "    </tr>\n",
              "    <tr>\n",
              "      <th>50%</th>\n",
              "      <td>3.904930e+09</td>\n",
              "      <td>4.500000e+05</td>\n",
              "      <td>3.000000</td>\n",
              "      <td>2.250000</td>\n",
              "      <td>1910.000000</td>\n",
              "      <td>7.618000e+03</td>\n",
              "      <td>1.500000</td>\n",
              "      <td>0.000000</td>\n",
              "      <td>0.000000</td>\n",
              "      <td>3.000000</td>\n",
              "      <td>7.000000</td>\n",
              "      <td>1560.000000</td>\n",
              "      <td>0.000000</td>\n",
              "      <td>1975.000000</td>\n",
              "      <td>0.000000</td>\n",
              "      <td>98065.000000</td>\n",
              "      <td>47.571800</td>\n",
              "      <td>-122.230000</td>\n",
              "      <td>1840.000000</td>\n",
              "      <td>7620.000000</td>\n",
              "    </tr>\n",
              "    <tr>\n",
              "      <th>75%</th>\n",
              "      <td>7.308900e+09</td>\n",
              "      <td>6.450000e+05</td>\n",
              "      <td>4.000000</td>\n",
              "      <td>2.500000</td>\n",
              "      <td>2550.000000</td>\n",
              "      <td>1.068800e+04</td>\n",
              "      <td>2.000000</td>\n",
              "      <td>0.000000</td>\n",
              "      <td>0.000000</td>\n",
              "      <td>4.000000</td>\n",
              "      <td>8.000000</td>\n",
              "      <td>2210.000000</td>\n",
              "      <td>560.000000</td>\n",
              "      <td>1997.000000</td>\n",
              "      <td>0.000000</td>\n",
              "      <td>98118.000000</td>\n",
              "      <td>47.678000</td>\n",
              "      <td>-122.125000</td>\n",
              "      <td>2360.000000</td>\n",
              "      <td>10083.000000</td>\n",
              "    </tr>\n",
              "    <tr>\n",
              "      <th>max</th>\n",
              "      <td>9.900000e+09</td>\n",
              "      <td>7.700000e+06</td>\n",
              "      <td>33.000000</td>\n",
              "      <td>8.000000</td>\n",
              "      <td>13540.000000</td>\n",
              "      <td>1.651359e+06</td>\n",
              "      <td>3.500000</td>\n",
              "      <td>1.000000</td>\n",
              "      <td>4.000000</td>\n",
              "      <td>5.000000</td>\n",
              "      <td>13.000000</td>\n",
              "      <td>9410.000000</td>\n",
              "      <td>4820.000000</td>\n",
              "      <td>2015.000000</td>\n",
              "      <td>2015.000000</td>\n",
              "      <td>98199.000000</td>\n",
              "      <td>47.777600</td>\n",
              "      <td>-121.315000</td>\n",
              "      <td>6210.000000</td>\n",
              "      <td>871200.000000</td>\n",
              "    </tr>\n",
              "  </tbody>\n",
              "</table>\n",
              "</div>"
            ],
            "text/plain": [
              "                 id         price  ...  sqft_living15     sqft_lot15\n",
              "count  2.161300e+04  2.161300e+04  ...   21613.000000   21613.000000\n",
              "mean   4.580302e+09  5.400881e+05  ...    1986.552492   12768.455652\n",
              "std    2.876566e+09  3.671272e+05  ...     685.391304   27304.179631\n",
              "min    1.000102e+06  7.500000e+04  ...     399.000000     651.000000\n",
              "25%    2.123049e+09  3.219500e+05  ...    1490.000000    5100.000000\n",
              "50%    3.904930e+09  4.500000e+05  ...    1840.000000    7620.000000\n",
              "75%    7.308900e+09  6.450000e+05  ...    2360.000000   10083.000000\n",
              "max    9.900000e+09  7.700000e+06  ...    6210.000000  871200.000000\n",
              "\n",
              "[8 rows x 20 columns]"
            ]
          },
          "metadata": {
            "tags": []
          },
          "execution_count": 128
        }
      ]
    },
    {
      "cell_type": "code",
      "metadata": {
        "id": "hsjdsjtkAWdZ",
        "colab_type": "code",
        "colab": {
          "base_uri": "https://localhost:8080/",
          "height": 370
        },
        "outputId": "4f26fcf2-10e5-4987-e9dd-222b8edf5197"
      },
      "source": [
        "df.corr()[\"price\"].sort_values()"
      ],
      "execution_count": 129,
      "outputs": [
        {
          "output_type": "execute_result",
          "data": {
            "text/plain": [
              "zipcode         -0.053203\n",
              "id              -0.016762\n",
              "long             0.021626\n",
              "condition        0.036362\n",
              "yr_built         0.054012\n",
              "sqft_lot15       0.082447\n",
              "sqft_lot         0.089661\n",
              "yr_renovated     0.126434\n",
              "floors           0.256794\n",
              "waterfront       0.266369\n",
              "lat              0.307003\n",
              "bedrooms         0.308350\n",
              "sqft_basement    0.323816\n",
              "view             0.397293\n",
              "bathrooms        0.525138\n",
              "sqft_living15    0.585379\n",
              "sqft_above       0.605567\n",
              "grade            0.667434\n",
              "sqft_living      0.702035\n",
              "price            1.000000\n",
              "Name: price, dtype: float64"
            ]
          },
          "metadata": {
            "tags": []
          },
          "execution_count": 129
        }
      ]
    },
    {
      "cell_type": "code",
      "metadata": {
        "id": "fCr7_9PUApGH",
        "colab_type": "code",
        "colab": {
          "base_uri": "https://localhost:8080/",
          "height": 526
        },
        "outputId": "27a83e91-15f0-4895-bf61-06fcfcf5d82f"
      },
      "source": [
        "plt.figure(figsize=(10,8))\n",
        "sns.scatterplot(x=\"sqft_living\",y='price',data=df )"
      ],
      "execution_count": 130,
      "outputs": [
        {
          "output_type": "execute_result",
          "data": {
            "text/plain": [
              "<matplotlib.axes._subplots.AxesSubplot at 0x7fc1a932fb00>"
            ]
          },
          "metadata": {
            "tags": []
          },
          "execution_count": 130
        },
        {
          "output_type": "display_data",
          "data": {
            "image/png": "[encoded data removed]",
            "text/plain": [
              "<Figure size 720x576 with 1 Axes>"
            ]
          },
          "metadata": {
            "tags": [],
            "needs_background": "light"
          }
        }
      ]
    },
    {
      "cell_type": "code",
      "metadata": {
        "id": "dAWD6h7LBQOU",
        "colab_type": "code",
        "colab": {}
      },
      "source": [
        "y=df[\"price\"].values"
      ],
      "execution_count": 131,
      "outputs": []
    },
    {
      "cell_type": "code",
      "metadata": {
        "id": "Wx-F1YJMBzWU",
        "colab_type": "code",
        "colab": {
          "base_uri": "https://localhost:8080/",
          "height": 218
        },
        "outputId": "2e034fd0-e34e-43aa-c40e-959619664ed5"
      },
      "source": [
        "df[\"yr_renovated\"]"
      ],
      "execution_count": 132,
      "outputs": [
        {
          "output_type": "execute_result",
          "data": {
            "text/plain": [
              "0           0\n",
              "1        1991\n",
              "2           0\n",
              "3           0\n",
              "4           0\n",
              "         ... \n",
              "21608       0\n",
              "21609       0\n",
              "21610       0\n",
              "21611       0\n",
              "21612       0\n",
              "Name: yr_renovated, Length: 21613, dtype: int64"
            ]
          },
          "metadata": {
            "tags": []
          },
          "execution_count": 132
        }
      ]
    },
    {
      "cell_type": "code",
      "metadata": {
        "id": "8kMnWCsnB9PU",
        "colab_type": "code",
        "colab": {}
      },
      "source": [
        "df=df.drop('yr_renovated',axis=1)"
      ],
      "execution_count": 133,
      "outputs": []
    },
    {
      "cell_type": "code",
      "metadata": {
        "id": "V6bxWPHmCGCr",
        "colab_type": "code",
        "colab": {
          "base_uri": "https://localhost:8080/",
          "height": 97
        },
        "outputId": "d0d4f5d7-2458-483a-981c-3cd3b4a3a404"
      },
      "source": [
        "# df[df[\"bedrooms\"]==33]"
      ],
      "execution_count": 146,
      "outputs": [
        {
          "output_type": "execute_result",
          "data": {
            "text/html": [
              "<div>\n",
              "<style scoped>\n",
              "    .dataframe tbody tr th:only-of-type {\n",
              "        vertical-align: middle;\n",
              "    }\n",
              "\n",
              "    .dataframe tbody tr th {\n",
              "        vertical-align: top;\n",
              "    }\n",
              "\n",
              "    .dataframe thead th {\n",
              "        text-align: right;\n",
              "    }\n",
              "</style>\n",
              "<table border=\"1\" class=\"dataframe\">\n",
              "  <thead>\n",
              "    <tr style=\"text-align: right;\">\n",
              "      <th></th>\n",
              "      <th>date</th>\n",
              "      <th>price</th>\n",
              "      <th>bedrooms</th>\n",
              "      <th>bathrooms</th>\n",
              "      <th>sqft_living</th>\n",
              "      <th>sqft_lot</th>\n",
              "      <th>floors</th>\n",
              "      <th>waterfront</th>\n",
              "      <th>view</th>\n",
              "      <th>condition</th>\n",
              "      <th>grade</th>\n",
              "      <th>sqft_above</th>\n",
              "      <th>sqft_basement</th>\n",
              "      <th>yr_built</th>\n",
              "      <th>zipcode</th>\n",
              "      <th>lat</th>\n",
              "      <th>long</th>\n",
              "      <th>sqft_living15</th>\n",
              "      <th>sqft_lot15</th>\n",
              "    </tr>\n",
              "  </thead>\n",
              "  <tbody>\n",
              "    <tr>\n",
              "      <th>15870</th>\n",
              "      <td>20140625T000000</td>\n",
              "      <td>640000.0</td>\n",
              "      <td>33</td>\n",
              "      <td>1.75</td>\n",
              "      <td>1620</td>\n",
              "      <td>6000</td>\n",
              "      <td>1.0</td>\n",
              "      <td>0</td>\n",
              "      <td>0</td>\n",
              "      <td>5</td>\n",
              "      <td>7</td>\n",
              "      <td>1040</td>\n",
              "      <td>580</td>\n",
              "      <td>1947</td>\n",
              "      <td>98103</td>\n",
              "      <td>47.6878</td>\n",
              "      <td>-122.331</td>\n",
              "      <td>1330</td>\n",
              "      <td>4700</td>\n",
              "    </tr>\n",
              "  </tbody>\n",
              "</table>\n",
              "</div>"
            ],
            "text/plain": [
              "                  date     price  bedrooms  ...     long  sqft_living15  sqft_lot15\n",
              "15870  20140625T000000  640000.0        33  ... -122.331           1330        4700\n",
              "\n",
              "[1 rows x 19 columns]"
            ]
          },
          "metadata": {
            "tags": []
          },
          "execution_count": 146
        }
      ]
    },
    {
      "cell_type": "code",
      "metadata": {
        "id": "xaMq7HmVCJtm",
        "colab_type": "code",
        "colab": {
          "base_uri": "https://localhost:8080/",
          "height": 67
        },
        "outputId": "1655302a-5efa-440a-8c42-3b6bb5d59515"
      },
      "source": [
        "df[\"waterfront\"].value_counts()"
      ],
      "execution_count": 135,
      "outputs": [
        {
          "output_type": "execute_result",
          "data": {
            "text/plain": [
              "0    21450\n",
              "1      163\n",
              "Name: waterfront, dtype: int64"
            ]
          },
          "metadata": {
            "tags": []
          },
          "execution_count": 135
        }
      ]
    },
    {
      "cell_type": "code",
      "metadata": {
        "id": "xEKwRQFyCTGW",
        "colab_type": "code",
        "colab": {}
      },
      "source": [
        "df = df.drop(\"id\",axis=1)"
      ],
      "execution_count": 136,
      "outputs": []
    },
    {
      "cell_type": "code",
      "metadata": {
        "id": "rdQFudm6CrfR",
        "colab_type": "code",
        "colab": {
          "base_uri": "https://localhost:8080/",
          "height": 525
        },
        "outputId": "176fe285-f61f-4b15-a876-e9dd5c250e23"
      },
      "source": [
        "# df=pd.read_csv(r\"/content/district wise population and centroids.csv\")\n",
        "plt.figure(figsize=(10,8))\n",
        "sns.scatterplot(x=\"long\",y=\"lat\",data=df,hue=\"price\")\n",
        "# edgecolor=None,alpha=0.7,palette=\"RdYlGn\")\n",
        "sns.scatterplot(x='bedrooms',y=\"price\",data=df, palette=\"RdYlGn\")\n",
        "plt.xlim(-1,35)"
      ],
      "execution_count": 145,
      "outputs": [
        {
          "output_type": "execute_result",
          "data": {
            "text/plain": [
              "(-1.0, 35.0)"
            ]
          },
          "metadata": {
            "tags": []
          },
          "execution_count": 145
        },
        {
          "output_type": "display_data",
          "data": {
            "image/png": "[encoded data removed]",
            "text/plain": [
              "<Figure size 720x576 with 1 Axes>"
            ]
          },
          "metadata": {
            "tags": [],
            "needs_background": "light"
          }
        }
      ]
    },
    {
      "cell_type": "code",
      "metadata": {
        "id": "SBShzIANCdyB",
        "colab_type": "code",
        "colab": {
          "base_uri": "https://localhost:8080/",
          "height": 579
        },
        "outputId": "05db0607-e7a7-4f58-c430-ed1dacee4171"
      },
      "source": [
        "plt.figure(figsize=(10,9))\n",
        "\n",
        "sns.boxplot(x='bedrooms',y=\"price\",data=df)"
      ],
      "execution_count": 107,
      "outputs": [
        {
          "output_type": "execute_result",
          "data": {
            "text/plain": [
              "<matplotlib.axes._subplots.AxesSubplot at 0x7fc1a99526a0>"
            ]
          },
          "metadata": {
            "tags": []
          },
          "execution_count": 107
        },
        {
          "output_type": "display_data",
          "data": {
            "image/png": "[encoded data removed]",
            "text/plain": [
              "<Figure size 720x648 with 1 Axes>"
            ]
          },
          "metadata": {
            "tags": [],
            "needs_background": "light"
          }
        }
      ]
    },
    {
      "cell_type": "code",
      "metadata": {
        "id": "5zFt7IyUDKZm",
        "colab_type": "code",
        "colab": {
          "base_uri": "https://localhost:8080/",
          "height": 218
        },
        "outputId": "7aba9f6b-840c-49ba-d8df-17379e618ed2"
      },
      "source": [
        "df[\"price\"].sort_values(ascending=False)"
      ],
      "execution_count": 16,
      "outputs": [
        {
          "output_type": "execute_result",
          "data": {
            "text/plain": [
              "7252     7700000.0\n",
              "3914     7062500.0\n",
              "9254     6885000.0\n",
              "4411     5570000.0\n",
              "1448     5350000.0\n",
              "           ...    \n",
              "8274       82000.0\n",
              "16198      81000.0\n",
              "465        80000.0\n",
              "15293      78000.0\n",
              "1149       75000.0\n",
              "Name: price, Length: 21613, dtype: float64"
            ]
          },
          "metadata": {
            "tags": []
          },
          "execution_count": 16
        }
      ]
    },
    {
      "cell_type": "code",
      "metadata": {
        "id": "OHDXbpWTDbyq",
        "colab_type": "code",
        "colab": {
          "base_uri": "https://localhost:8080/",
          "height": 218
        },
        "outputId": "731f510f-1119-4416-8ffb-08e7e6b24c29"
      },
      "source": [
        "df[\"price\"].value_counts().sort_values()"
      ],
      "execution_count": 17,
      "outputs": [
        {
          "output_type": "execute_result",
          "data": {
            "text/plain": [
              "280400.0      1\n",
              "109500.0      1\n",
              "308130.0      1\n",
              "406430.0      1\n",
              "504975.0      1\n",
              "           ... \n",
              "425000.0    150\n",
              "500000.0    152\n",
              "550000.0    159\n",
              "350000.0    172\n",
              "450000.0    172\n",
              "Name: price, Length: 4028, dtype: int64"
            ]
          },
          "metadata": {
            "tags": []
          },
          "execution_count": 17
        }
      ]
    },
    {
      "cell_type": "code",
      "metadata": {
        "id": "DhwYT3T7D7wP",
        "colab_type": "code",
        "colab": {}
      },
      "source": [
        "no_top=df.sort_values(\"price\").iloc[int(len(df)*0.01):]\n"
      ],
      "execution_count": 18,
      "outputs": []
    },
    {
      "cell_type": "code",
      "metadata": {
        "id": "qiWaxctBEZeb",
        "colab_type": "code",
        "colab": {
          "base_uri": "https://localhost:8080/",
          "height": 422
        },
        "outputId": "1bb47ab6-ec6e-4611-e1b7-ebaa635f76dd"
      },
      "source": [
        "no_top"
      ],
      "execution_count": 19,
      "outputs": [
        {
          "output_type": "execute_result",
          "data": {
            "text/html": [
              "<div>\n",
              "<style scoped>\n",
              "    .dataframe tbody tr th:only-of-type {\n",
              "        vertical-align: middle;\n",
              "    }\n",
              "\n",
              "    .dataframe tbody tr th {\n",
              "        vertical-align: top;\n",
              "    }\n",
              "\n",
              "    .dataframe thead th {\n",
              "        text-align: right;\n",
              "    }\n",
              "</style>\n",
              "<table border=\"1\" class=\"dataframe\">\n",
              "  <thead>\n",
              "    <tr style=\"text-align: right;\">\n",
              "      <th></th>\n",
              "      <th>date</th>\n",
              "      <th>price</th>\n",
              "      <th>bedrooms</th>\n",
              "      <th>bathrooms</th>\n",
              "      <th>sqft_living</th>\n",
              "      <th>sqft_lot</th>\n",
              "      <th>floors</th>\n",
              "      <th>waterfront</th>\n",
              "      <th>view</th>\n",
              "      <th>condition</th>\n",
              "      <th>grade</th>\n",
              "      <th>sqft_above</th>\n",
              "      <th>sqft_basement</th>\n",
              "      <th>yr_built</th>\n",
              "      <th>zipcode</th>\n",
              "      <th>lat</th>\n",
              "      <th>long</th>\n",
              "      <th>sqft_living15</th>\n",
              "      <th>sqft_lot15</th>\n",
              "    </tr>\n",
              "  </thead>\n",
              "  <tbody>\n",
              "    <tr>\n",
              "      <th>14477</th>\n",
              "      <td>20150318T000000</td>\n",
              "      <td>153500.0</td>\n",
              "      <td>3</td>\n",
              "      <td>1.00</td>\n",
              "      <td>890</td>\n",
              "      <td>4810</td>\n",
              "      <td>1.0</td>\n",
              "      <td>0</td>\n",
              "      <td>0</td>\n",
              "      <td>3</td>\n",
              "      <td>6</td>\n",
              "      <td>890</td>\n",
              "      <td>0</td>\n",
              "      <td>1910</td>\n",
              "      <td>98118</td>\n",
              "      <td>47.5153</td>\n",
              "      <td>-122.266</td>\n",
              "      <td>1230</td>\n",
              "      <td>6057</td>\n",
              "    </tr>\n",
              "    <tr>\n",
              "      <th>3275</th>\n",
              "      <td>20141009T000000</td>\n",
              "      <td>153503.0</td>\n",
              "      <td>2</td>\n",
              "      <td>2.50</td>\n",
              "      <td>1240</td>\n",
              "      <td>3649</td>\n",
              "      <td>2.0</td>\n",
              "      <td>0</td>\n",
              "      <td>0</td>\n",
              "      <td>3</td>\n",
              "      <td>7</td>\n",
              "      <td>1240</td>\n",
              "      <td>0</td>\n",
              "      <td>1986</td>\n",
              "      <td>98003</td>\n",
              "      <td>47.3241</td>\n",
              "      <td>-122.322</td>\n",
              "      <td>1400</td>\n",
              "      <td>3721</td>\n",
              "    </tr>\n",
              "    <tr>\n",
              "      <th>4768</th>\n",
              "      <td>20140909T000000</td>\n",
              "      <td>154000.0</td>\n",
              "      <td>2</td>\n",
              "      <td>1.00</td>\n",
              "      <td>1040</td>\n",
              "      <td>20524</td>\n",
              "      <td>1.0</td>\n",
              "      <td>0</td>\n",
              "      <td>3</td>\n",
              "      <td>3</td>\n",
              "      <td>6</td>\n",
              "      <td>1040</td>\n",
              "      <td>0</td>\n",
              "      <td>1949</td>\n",
              "      <td>98014</td>\n",
              "      <td>47.6981</td>\n",
              "      <td>-121.875</td>\n",
              "      <td>1880</td>\n",
              "      <td>38996</td>\n",
              "    </tr>\n",
              "    <tr>\n",
              "      <th>15976</th>\n",
              "      <td>20141016T000000</td>\n",
              "      <td>154000.0</td>\n",
              "      <td>3</td>\n",
              "      <td>3.00</td>\n",
              "      <td>1530</td>\n",
              "      <td>9997</td>\n",
              "      <td>1.0</td>\n",
              "      <td>0</td>\n",
              "      <td>0</td>\n",
              "      <td>3</td>\n",
              "      <td>6</td>\n",
              "      <td>1020</td>\n",
              "      <td>510</td>\n",
              "      <td>1992</td>\n",
              "      <td>98001</td>\n",
              "      <td>47.2861</td>\n",
              "      <td>-122.252</td>\n",
              "      <td>1410</td>\n",
              "      <td>9997</td>\n",
              "    </tr>\n",
              "    <tr>\n",
              "      <th>8087</th>\n",
              "      <td>20150106T000000</td>\n",
              "      <td>154200.0</td>\n",
              "      <td>4</td>\n",
              "      <td>1.00</td>\n",
              "      <td>1310</td>\n",
              "      <td>8640</td>\n",
              "      <td>1.0</td>\n",
              "      <td>0</td>\n",
              "      <td>0</td>\n",
              "      <td>3</td>\n",
              "      <td>6</td>\n",
              "      <td>910</td>\n",
              "      <td>400</td>\n",
              "      <td>1948</td>\n",
              "      <td>98146</td>\n",
              "      <td>47.5104</td>\n",
              "      <td>-122.342</td>\n",
              "      <td>1310</td>\n",
              "      <td>8640</td>\n",
              "    </tr>\n",
              "    <tr>\n",
              "      <th>...</th>\n",
              "      <td>...</td>\n",
              "      <td>...</td>\n",
              "      <td>...</td>\n",
              "      <td>...</td>\n",
              "      <td>...</td>\n",
              "      <td>...</td>\n",
              "      <td>...</td>\n",
              "      <td>...</td>\n",
              "      <td>...</td>\n",
              "      <td>...</td>\n",
              "      <td>...</td>\n",
              "      <td>...</td>\n",
              "      <td>...</td>\n",
              "      <td>...</td>\n",
              "      <td>...</td>\n",
              "      <td>...</td>\n",
              "      <td>...</td>\n",
              "      <td>...</td>\n",
              "      <td>...</td>\n",
              "    </tr>\n",
              "    <tr>\n",
              "      <th>1448</th>\n",
              "      <td>20150413T000000</td>\n",
              "      <td>5350000.0</td>\n",
              "      <td>5</td>\n",
              "      <td>5.00</td>\n",
              "      <td>8000</td>\n",
              "      <td>23985</td>\n",
              "      <td>2.0</td>\n",
              "      <td>0</td>\n",
              "      <td>4</td>\n",
              "      <td>3</td>\n",
              "      <td>12</td>\n",
              "      <td>6720</td>\n",
              "      <td>1280</td>\n",
              "      <td>2009</td>\n",
              "      <td>98004</td>\n",
              "      <td>47.6232</td>\n",
              "      <td>-122.220</td>\n",
              "      <td>4600</td>\n",
              "      <td>21750</td>\n",
              "    </tr>\n",
              "    <tr>\n",
              "      <th>4411</th>\n",
              "      <td>20140804T000000</td>\n",
              "      <td>5570000.0</td>\n",
              "      <td>5</td>\n",
              "      <td>5.75</td>\n",
              "      <td>9200</td>\n",
              "      <td>35069</td>\n",
              "      <td>2.0</td>\n",
              "      <td>0</td>\n",
              "      <td>0</td>\n",
              "      <td>3</td>\n",
              "      <td>13</td>\n",
              "      <td>6200</td>\n",
              "      <td>3000</td>\n",
              "      <td>2001</td>\n",
              "      <td>98039</td>\n",
              "      <td>47.6289</td>\n",
              "      <td>-122.233</td>\n",
              "      <td>3560</td>\n",
              "      <td>24345</td>\n",
              "    </tr>\n",
              "    <tr>\n",
              "      <th>9254</th>\n",
              "      <td>20140919T000000</td>\n",
              "      <td>6885000.0</td>\n",
              "      <td>6</td>\n",
              "      <td>7.75</td>\n",
              "      <td>9890</td>\n",
              "      <td>31374</td>\n",
              "      <td>2.0</td>\n",
              "      <td>0</td>\n",
              "      <td>4</td>\n",
              "      <td>3</td>\n",
              "      <td>13</td>\n",
              "      <td>8860</td>\n",
              "      <td>1030</td>\n",
              "      <td>2001</td>\n",
              "      <td>98039</td>\n",
              "      <td>47.6305</td>\n",
              "      <td>-122.240</td>\n",
              "      <td>4540</td>\n",
              "      <td>42730</td>\n",
              "    </tr>\n",
              "    <tr>\n",
              "      <th>3914</th>\n",
              "      <td>20140611T000000</td>\n",
              "      <td>7062500.0</td>\n",
              "      <td>5</td>\n",
              "      <td>4.50</td>\n",
              "      <td>10040</td>\n",
              "      <td>37325</td>\n",
              "      <td>2.0</td>\n",
              "      <td>1</td>\n",
              "      <td>2</td>\n",
              "      <td>3</td>\n",
              "      <td>11</td>\n",
              "      <td>7680</td>\n",
              "      <td>2360</td>\n",
              "      <td>1940</td>\n",
              "      <td>98004</td>\n",
              "      <td>47.6500</td>\n",
              "      <td>-122.214</td>\n",
              "      <td>3930</td>\n",
              "      <td>25449</td>\n",
              "    </tr>\n",
              "    <tr>\n",
              "      <th>7252</th>\n",
              "      <td>20141013T000000</td>\n",
              "      <td>7700000.0</td>\n",
              "      <td>6</td>\n",
              "      <td>8.00</td>\n",
              "      <td>12050</td>\n",
              "      <td>27600</td>\n",
              "      <td>2.5</td>\n",
              "      <td>0</td>\n",
              "      <td>3</td>\n",
              "      <td>4</td>\n",
              "      <td>13</td>\n",
              "      <td>8570</td>\n",
              "      <td>3480</td>\n",
              "      <td>1910</td>\n",
              "      <td>98102</td>\n",
              "      <td>47.6298</td>\n",
              "      <td>-122.323</td>\n",
              "      <td>3940</td>\n",
              "      <td>8800</td>\n",
              "    </tr>\n",
              "  </tbody>\n",
              "</table>\n",
              "<p>21397 rows × 19 columns</p>\n",
              "</div>"
            ],
            "text/plain": [
              "                  date      price  bedrooms  ...     long  sqft_living15  sqft_lot15\n",
              "14477  20150318T000000   153500.0         3  ... -122.266           1230        6057\n",
              "3275   20141009T000000   153503.0         2  ... -122.322           1400        3721\n",
              "4768   20140909T000000   154000.0         2  ... -121.875           1880       38996\n",
              "15976  20141016T000000   154000.0         3  ... -122.252           1410        9997\n",
              "8087   20150106T000000   154200.0         4  ... -122.342           1310        8640\n",
              "...                ...        ...       ...  ...      ...            ...         ...\n",
              "1448   20150413T000000  5350000.0         5  ... -122.220           4600       21750\n",
              "4411   20140804T000000  5570000.0         5  ... -122.233           3560       24345\n",
              "9254   20140919T000000  6885000.0         6  ... -122.240           4540       42730\n",
              "3914   20140611T000000  7062500.0         5  ... -122.214           3930       25449\n",
              "7252   20141013T000000  7700000.0         6  ... -122.323           3940        8800\n",
              "\n",
              "[21397 rows x 19 columns]"
            ]
          },
          "metadata": {
            "tags": []
          },
          "execution_count": 19
        }
      ]
    },
    {
      "cell_type": "code",
      "metadata": {
        "id": "QQs6ZufFEvkp",
        "colab_type": "code",
        "colab": {
          "base_uri": "https://localhost:8080/",
          "height": 568
        },
        "outputId": "bf45dc4b-0e29-4ae5-a776-3adf72abfd00"
      },
      "source": [
        "plt.figure(figsize=(10,9))\n",
        "sns.scatterplot(x=\"long\",y=\"lat\",data=no_top,hue=\"price\",edgecolor=None,alpha=0.1,palette=\"RdYlBu\")"
      ],
      "execution_count": 140,
      "outputs": [
        {
          "output_type": "execute_result",
          "data": {
            "text/plain": [
              "<matplotlib.axes._subplots.AxesSubplot at 0x7fc1a8ea25f8>"
            ]
          },
          "metadata": {
            "tags": []
          },
          "execution_count": 140
        },
        {
          "output_type": "display_data",
          "data": {
            "image/png": "[encoded data removed]",
            "text/plain": [
              "<Figure size 720x648 with 1 Axes>"
            ]
          },
          "metadata": {
            "tags": [],
            "needs_background": "light"
          }
        }
      ]
    },
    {
      "cell_type": "markdown",
      "metadata": {
        "id": "C5D-vw2wxfQg",
        "colab_type": "text"
      },
      "source": [
        "## FEATURE ENGINEERING"
      ]
    },
    {
      "cell_type": "code",
      "metadata": {
        "id": "c_OcK6xWE49w",
        "colab_type": "code",
        "colab": {}
      },
      "source": [
        "df[\"date\"]=pd.to_datetime(df[\"date\"])"
      ],
      "execution_count": 21,
      "outputs": []
    },
    {
      "cell_type": "code",
      "metadata": {
        "id": "KIXiFmv4GFh9",
        "colab_type": "code",
        "colab": {
          "base_uri": "https://localhost:8080/",
          "height": 218
        },
        "outputId": "f099eab9-e823-4d44-c5f3-e08dfcb8d274"
      },
      "source": [
        "df[\"date\"]"
      ],
      "execution_count": 22,
      "outputs": [
        {
          "output_type": "execute_result",
          "data": {
            "text/plain": [
              "0       2014-10-13\n",
              "1       2014-12-09\n",
              "2       2015-02-25\n",
              "3       2014-12-09\n",
              "4       2015-02-18\n",
              "           ...    \n",
              "21608   2014-05-21\n",
              "21609   2015-02-23\n",
              "21610   2014-06-23\n",
              "21611   2015-01-16\n",
              "21612   2014-10-15\n",
              "Name: date, Length: 21613, dtype: datetime64[ns]"
            ]
          },
          "metadata": {
            "tags": []
          },
          "execution_count": 22
        }
      ]
    },
    {
      "cell_type": "code",
      "metadata": {
        "id": "wGkK2xfMGOIN",
        "colab_type": "code",
        "colab": {}
      },
      "source": [
        "df[\"month\"]=df[\"date\"].apply(lambda x:x.month)\n",
        "df[\"year\"]=df[\"date\"].apply(lambda x:x.year)"
      ],
      "execution_count": 23,
      "outputs": []
    },
    {
      "cell_type": "code",
      "metadata": {
        "id": "d0hPnqKiGV32",
        "colab_type": "code",
        "colab": {
          "base_uri": "https://localhost:8080/",
          "height": 525
        },
        "outputId": "e6751671-f5e9-42cc-ea61-7c4531c4bbec"
      },
      "source": [
        "plt.figure(figsize=(12,8))\n",
        "sns.boxplot(x=\"month\",y=\"price\",data=df)"
      ],
      "execution_count": 106,
      "outputs": [
        {
          "output_type": "execute_result",
          "data": {
            "text/plain": [
              "<matplotlib.axes._subplots.AxesSubplot at 0x7fc1a9b79198>"
            ]
          },
          "metadata": {
            "tags": []
          },
          "execution_count": 106
        },
        {
          "output_type": "display_data",
          "data": {
            "image/png": "[encoded data removed]",
            "text/plain": [
              "<Figure size 864x576 with 1 Axes>"
            ]
          },
          "metadata": {
            "tags": [],
            "needs_background": "light"
          }
        }
      ]
    },
    {
      "cell_type": "code",
      "metadata": {
        "id": "U_unB4eYGXWQ",
        "colab_type": "code",
        "colab": {
          "base_uri": "https://localhost:8080/",
          "height": 590
        },
        "outputId": "c098849a-7c98-4238-fed8-562fa27e3246"
      },
      "source": [
        "df"
      ],
      "execution_count": 25,
      "outputs": [
        {
          "output_type": "execute_result",
          "data": {
            "text/html": [
              "<div>\n",
              "<style scoped>\n",
              "    .dataframe tbody tr th:only-of-type {\n",
              "        vertical-align: middle;\n",
              "    }\n",
              "\n",
              "    .dataframe tbody tr th {\n",
              "        vertical-align: top;\n",
              "    }\n",
              "\n",
              "    .dataframe thead th {\n",
              "        text-align: right;\n",
              "    }\n",
              "</style>\n",
              "<table border=\"1\" class=\"dataframe\">\n",
              "  <thead>\n",
              "    <tr style=\"text-align: right;\">\n",
              "      <th></th>\n",
              "      <th>date</th>\n",
              "      <th>price</th>\n",
              "      <th>bedrooms</th>\n",
              "      <th>bathrooms</th>\n",
              "      <th>sqft_living</th>\n",
              "      <th>sqft_lot</th>\n",
              "      <th>floors</th>\n",
              "      <th>waterfront</th>\n",
              "      <th>view</th>\n",
              "      <th>condition</th>\n",
              "      <th>grade</th>\n",
              "      <th>sqft_above</th>\n",
              "      <th>sqft_basement</th>\n",
              "      <th>yr_built</th>\n",
              "      <th>zipcode</th>\n",
              "      <th>lat</th>\n",
              "      <th>long</th>\n",
              "      <th>sqft_living15</th>\n",
              "      <th>sqft_lot15</th>\n",
              "      <th>month</th>\n",
              "      <th>year</th>\n",
              "    </tr>\n",
              "  </thead>\n",
              "  <tbody>\n",
              "    <tr>\n",
              "      <th>0</th>\n",
              "      <td>2014-10-13</td>\n",
              "      <td>221900.0</td>\n",
              "      <td>3</td>\n",
              "      <td>1.00</td>\n",
              "      <td>1180</td>\n",
              "      <td>5650</td>\n",
              "      <td>1.0</td>\n",
              "      <td>0</td>\n",
              "      <td>0</td>\n",
              "      <td>3</td>\n",
              "      <td>7</td>\n",
              "      <td>1180</td>\n",
              "      <td>0</td>\n",
              "      <td>1955</td>\n",
              "      <td>98178</td>\n",
              "      <td>47.5112</td>\n",
              "      <td>-122.257</td>\n",
              "      <td>1340</td>\n",
              "      <td>5650</td>\n",
              "      <td>10</td>\n",
              "      <td>2014</td>\n",
              "    </tr>\n",
              "    <tr>\n",
              "      <th>1</th>\n",
              "      <td>2014-12-09</td>\n",
              "      <td>538000.0</td>\n",
              "      <td>3</td>\n",
              "      <td>2.25</td>\n",
              "      <td>2570</td>\n",
              "      <td>7242</td>\n",
              "      <td>2.0</td>\n",
              "      <td>0</td>\n",
              "      <td>0</td>\n",
              "      <td>3</td>\n",
              "      <td>7</td>\n",
              "      <td>2170</td>\n",
              "      <td>400</td>\n",
              "      <td>1951</td>\n",
              "      <td>98125</td>\n",
              "      <td>47.7210</td>\n",
              "      <td>-122.319</td>\n",
              "      <td>1690</td>\n",
              "      <td>7639</td>\n",
              "      <td>12</td>\n",
              "      <td>2014</td>\n",
              "    </tr>\n",
              "    <tr>\n",
              "      <th>2</th>\n",
              "      <td>2015-02-25</td>\n",
              "      <td>180000.0</td>\n",
              "      <td>2</td>\n",
              "      <td>1.00</td>\n",
              "      <td>770</td>\n",
              "      <td>10000</td>\n",
              "      <td>1.0</td>\n",
              "      <td>0</td>\n",
              "      <td>0</td>\n",
              "      <td>3</td>\n",
              "      <td>6</td>\n",
              "      <td>770</td>\n",
              "      <td>0</td>\n",
              "      <td>1933</td>\n",
              "      <td>98028</td>\n",
              "      <td>47.7379</td>\n",
              "      <td>-122.233</td>\n",
              "      <td>2720</td>\n",
              "      <td>8062</td>\n",
              "      <td>2</td>\n",
              "      <td>2015</td>\n",
              "    </tr>\n",
              "    <tr>\n",
              "      <th>3</th>\n",
              "      <td>2014-12-09</td>\n",
              "      <td>604000.0</td>\n",
              "      <td>4</td>\n",
              "      <td>3.00</td>\n",
              "      <td>1960</td>\n",
              "      <td>5000</td>\n",
              "      <td>1.0</td>\n",
              "      <td>0</td>\n",
              "      <td>0</td>\n",
              "      <td>5</td>\n",
              "      <td>7</td>\n",
              "      <td>1050</td>\n",
              "      <td>910</td>\n",
              "      <td>1965</td>\n",
              "      <td>98136</td>\n",
              "      <td>47.5208</td>\n",
              "      <td>-122.393</td>\n",
              "      <td>1360</td>\n",
              "      <td>5000</td>\n",
              "      <td>12</td>\n",
              "      <td>2014</td>\n",
              "    </tr>\n",
              "    <tr>\n",
              "      <th>4</th>\n",
              "      <td>2015-02-18</td>\n",
              "      <td>510000.0</td>\n",
              "      <td>3</td>\n",
              "      <td>2.00</td>\n",
              "      <td>1680</td>\n",
              "      <td>8080</td>\n",
              "      <td>1.0</td>\n",
              "      <td>0</td>\n",
              "      <td>0</td>\n",
              "      <td>3</td>\n",
              "      <td>8</td>\n",
              "      <td>1680</td>\n",
              "      <td>0</td>\n",
              "      <td>1987</td>\n",
              "      <td>98074</td>\n",
              "      <td>47.6168</td>\n",
              "      <td>-122.045</td>\n",
              "      <td>1800</td>\n",
              "      <td>7503</td>\n",
              "      <td>2</td>\n",
              "      <td>2015</td>\n",
              "    </tr>\n",
              "    <tr>\n",
              "      <th>...</th>\n",
              "      <td>...</td>\n",
              "      <td>...</td>\n",
              "      <td>...</td>\n",
              "      <td>...</td>\n",
              "      <td>...</td>\n",
              "      <td>...</td>\n",
              "      <td>...</td>\n",
              "      <td>...</td>\n",
              "      <td>...</td>\n",
              "      <td>...</td>\n",
              "      <td>...</td>\n",
              "      <td>...</td>\n",
              "      <td>...</td>\n",
              "      <td>...</td>\n",
              "      <td>...</td>\n",
              "      <td>...</td>\n",
              "      <td>...</td>\n",
              "      <td>...</td>\n",
              "      <td>...</td>\n",
              "      <td>...</td>\n",
              "      <td>...</td>\n",
              "    </tr>\n",
              "    <tr>\n",
              "      <th>21608</th>\n",
              "      <td>2014-05-21</td>\n",
              "      <td>360000.0</td>\n",
              "      <td>3</td>\n",
              "      <td>2.50</td>\n",
              "      <td>1530</td>\n",
              "      <td>1131</td>\n",
              "      <td>3.0</td>\n",
              "      <td>0</td>\n",
              "      <td>0</td>\n",
              "      <td>3</td>\n",
              "      <td>8</td>\n",
              "      <td>1530</td>\n",
              "      <td>0</td>\n",
              "      <td>2009</td>\n",
              "      <td>98103</td>\n",
              "      <td>47.6993</td>\n",
              "      <td>-122.346</td>\n",
              "      <td>1530</td>\n",
              "      <td>1509</td>\n",
              "      <td>5</td>\n",
              "      <td>2014</td>\n",
              "    </tr>\n",
              "    <tr>\n",
              "      <th>21609</th>\n",
              "      <td>2015-02-23</td>\n",
              "      <td>400000.0</td>\n",
              "      <td>4</td>\n",
              "      <td>2.50</td>\n",
              "      <td>2310</td>\n",
              "      <td>5813</td>\n",
              "      <td>2.0</td>\n",
              "      <td>0</td>\n",
              "      <td>0</td>\n",
              "      <td>3</td>\n",
              "      <td>8</td>\n",
              "      <td>2310</td>\n",
              "      <td>0</td>\n",
              "      <td>2014</td>\n",
              "      <td>98146</td>\n",
              "      <td>47.5107</td>\n",
              "      <td>-122.362</td>\n",
              "      <td>1830</td>\n",
              "      <td>7200</td>\n",
              "      <td>2</td>\n",
              "      <td>2015</td>\n",
              "    </tr>\n",
              "    <tr>\n",
              "      <th>21610</th>\n",
              "      <td>2014-06-23</td>\n",
              "      <td>402101.0</td>\n",
              "      <td>2</td>\n",
              "      <td>0.75</td>\n",
              "      <td>1020</td>\n",
              "      <td>1350</td>\n",
              "      <td>2.0</td>\n",
              "      <td>0</td>\n",
              "      <td>0</td>\n",
              "      <td>3</td>\n",
              "      <td>7</td>\n",
              "      <td>1020</td>\n",
              "      <td>0</td>\n",
              "      <td>2009</td>\n",
              "      <td>98144</td>\n",
              "      <td>47.5944</td>\n",
              "      <td>-122.299</td>\n",
              "      <td>1020</td>\n",
              "      <td>2007</td>\n",
              "      <td>6</td>\n",
              "      <td>2014</td>\n",
              "    </tr>\n",
              "    <tr>\n",
              "      <th>21611</th>\n",
              "      <td>2015-01-16</td>\n",
              "      <td>400000.0</td>\n",
              "      <td>3</td>\n",
              "      <td>2.50</td>\n",
              "      <td>1600</td>\n",
              "      <td>2388</td>\n",
              "      <td>2.0</td>\n",
              "      <td>0</td>\n",
              "      <td>0</td>\n",
              "      <td>3</td>\n",
              "      <td>8</td>\n",
              "      <td>1600</td>\n",
              "      <td>0</td>\n",
              "      <td>2004</td>\n",
              "      <td>98027</td>\n",
              "      <td>47.5345</td>\n",
              "      <td>-122.069</td>\n",
              "      <td>1410</td>\n",
              "      <td>1287</td>\n",
              "      <td>1</td>\n",
              "      <td>2015</td>\n",
              "    </tr>\n",
              "    <tr>\n",
              "      <th>21612</th>\n",
              "      <td>2014-10-15</td>\n",
              "      <td>325000.0</td>\n",
              "      <td>2</td>\n",
              "      <td>0.75</td>\n",
              "      <td>1020</td>\n",
              "      <td>1076</td>\n",
              "      <td>2.0</td>\n",
              "      <td>0</td>\n",
              "      <td>0</td>\n",
              "      <td>3</td>\n",
              "      <td>7</td>\n",
              "      <td>1020</td>\n",
              "      <td>0</td>\n",
              "      <td>2008</td>\n",
              "      <td>98144</td>\n",
              "      <td>47.5941</td>\n",
              "      <td>-122.299</td>\n",
              "      <td>1020</td>\n",
              "      <td>1357</td>\n",
              "      <td>10</td>\n",
              "      <td>2014</td>\n",
              "    </tr>\n",
              "  </tbody>\n",
              "</table>\n",
              "<p>21613 rows × 21 columns</p>\n",
              "</div>"
            ],
            "text/plain": [
              "            date     price  bedrooms  ...  sqft_lot15  month  year\n",
              "0     2014-10-13  221900.0         3  ...        5650     10  2014\n",
              "1     2014-12-09  538000.0         3  ...        7639     12  2014\n",
              "2     2015-02-25  180000.0         2  ...        8062      2  2015\n",
              "3     2014-12-09  604000.0         4  ...        5000     12  2014\n",
              "4     2015-02-18  510000.0         3  ...        7503      2  2015\n",
              "...          ...       ...       ...  ...         ...    ...   ...\n",
              "21608 2014-05-21  360000.0         3  ...        1509      5  2014\n",
              "21609 2015-02-23  400000.0         4  ...        7200      2  2015\n",
              "21610 2014-06-23  402101.0         2  ...        2007      6  2014\n",
              "21611 2015-01-16  400000.0         3  ...        1287      1  2015\n",
              "21612 2014-10-15  325000.0         2  ...        1357     10  2014\n",
              "\n",
              "[21613 rows x 21 columns]"
            ]
          },
          "metadata": {
            "tags": []
          },
          "execution_count": 25
        }
      ]
    },
    {
      "cell_type": "code",
      "metadata": {
        "id": "t2RSY6gKGt7X",
        "colab_type": "code",
        "colab": {
          "base_uri": "https://localhost:8080/",
          "height": 579
        },
        "outputId": "3ccfefd8-654d-4a35-e97e-e7c2378b18a4"
      },
      "source": [
        "plt.figure(figsize=(10,9))\n",
        "sns.scatterplot(x=\"long\",y=\"price\",data=df)"
      ],
      "execution_count": 26,
      "outputs": [
        {
          "output_type": "execute_result",
          "data": {
            "text/plain": [
              "<matplotlib.axes._subplots.AxesSubplot at 0x7fc1f3661208>"
            ]
          },
          "metadata": {
            "tags": []
          },
          "execution_count": 26
        },
        {
          "output_type": "display_data",
          "data": {
            "image/png": "[encoded data removed]",
            "text/plain": [
              "<Figure size 720x648 with 1 Axes>"
            ]
          },
          "metadata": {
            "tags": [],
            "needs_background": "light"
          }
        }
      ]
    },
    {
      "cell_type": "code",
      "metadata": {
        "id": "4CCEYdGpG6rq",
        "colab_type": "code",
        "colab": {
          "base_uri": "https://localhost:8080/",
          "height": 590
        },
        "outputId": "ea11ac18-fe75-47a3-9f68-f7367a955da8"
      },
      "source": [
        "df"
      ],
      "execution_count": 27,
      "outputs": [
        {
          "output_type": "execute_result",
          "data": {
            "text/html": [
              "<div>\n",
              "<style scoped>\n",
              "    .dataframe tbody tr th:only-of-type {\n",
              "        vertical-align: middle;\n",
              "    }\n",
              "\n",
              "    .dataframe tbody tr th {\n",
              "        vertical-align: top;\n",
              "    }\n",
              "\n",
              "    .dataframe thead th {\n",
              "        text-align: right;\n",
              "    }\n",
              "</style>\n",
              "<table border=\"1\" class=\"dataframe\">\n",
              "  <thead>\n",
              "    <tr style=\"text-align: right;\">\n",
              "      <th></th>\n",
              "      <th>date</th>\n",
              "      <th>price</th>\n",
              "      <th>bedrooms</th>\n",
              "      <th>bathrooms</th>\n",
              "      <th>sqft_living</th>\n",
              "      <th>sqft_lot</th>\n",
              "      <th>floors</th>\n",
              "      <th>waterfront</th>\n",
              "      <th>view</th>\n",
              "      <th>condition</th>\n",
              "      <th>grade</th>\n",
              "      <th>sqft_above</th>\n",
              "      <th>sqft_basement</th>\n",
              "      <th>yr_built</th>\n",
              "      <th>zipcode</th>\n",
              "      <th>lat</th>\n",
              "      <th>long</th>\n",
              "      <th>sqft_living15</th>\n",
              "      <th>sqft_lot15</th>\n",
              "      <th>month</th>\n",
              "      <th>year</th>\n",
              "    </tr>\n",
              "  </thead>\n",
              "  <tbody>\n",
              "    <tr>\n",
              "      <th>0</th>\n",
              "      <td>2014-10-13</td>\n",
              "      <td>221900.0</td>\n",
              "      <td>3</td>\n",
              "      <td>1.00</td>\n",
              "      <td>1180</td>\n",
              "      <td>5650</td>\n",
              "      <td>1.0</td>\n",
              "      <td>0</td>\n",
              "      <td>0</td>\n",
              "      <td>3</td>\n",
              "      <td>7</td>\n",
              "      <td>1180</td>\n",
              "      <td>0</td>\n",
              "      <td>1955</td>\n",
              "      <td>98178</td>\n",
              "      <td>47.5112</td>\n",
              "      <td>-122.257</td>\n",
              "      <td>1340</td>\n",
              "      <td>5650</td>\n",
              "      <td>10</td>\n",
              "      <td>2014</td>\n",
              "    </tr>\n",
              "    <tr>\n",
              "      <th>1</th>\n",
              "      <td>2014-12-09</td>\n",
              "      <td>538000.0</td>\n",
              "      <td>3</td>\n",
              "      <td>2.25</td>\n",
              "      <td>2570</td>\n",
              "      <td>7242</td>\n",
              "      <td>2.0</td>\n",
              "      <td>0</td>\n",
              "      <td>0</td>\n",
              "      <td>3</td>\n",
              "      <td>7</td>\n",
              "      <td>2170</td>\n",
              "      <td>400</td>\n",
              "      <td>1951</td>\n",
              "      <td>98125</td>\n",
              "      <td>47.7210</td>\n",
              "      <td>-122.319</td>\n",
              "      <td>1690</td>\n",
              "      <td>7639</td>\n",
              "      <td>12</td>\n",
              "      <td>2014</td>\n",
              "    </tr>\n",
              "    <tr>\n",
              "      <th>2</th>\n",
              "      <td>2015-02-25</td>\n",
              "      <td>180000.0</td>\n",
              "      <td>2</td>\n",
              "      <td>1.00</td>\n",
              "      <td>770</td>\n",
              "      <td>10000</td>\n",
              "      <td>1.0</td>\n",
              "      <td>0</td>\n",
              "      <td>0</td>\n",
              "      <td>3</td>\n",
              "      <td>6</td>\n",
              "      <td>770</td>\n",
              "      <td>0</td>\n",
              "      <td>1933</td>\n",
              "      <td>98028</td>\n",
              "      <td>47.7379</td>\n",
              "      <td>-122.233</td>\n",
              "      <td>2720</td>\n",
              "      <td>8062</td>\n",
              "      <td>2</td>\n",
              "      <td>2015</td>\n",
              "    </tr>\n",
              "    <tr>\n",
              "      <th>3</th>\n",
              "      <td>2014-12-09</td>\n",
              "      <td>604000.0</td>\n",
              "      <td>4</td>\n",
              "      <td>3.00</td>\n",
              "      <td>1960</td>\n",
              "      <td>5000</td>\n",
              "      <td>1.0</td>\n",
              "      <td>0</td>\n",
              "      <td>0</td>\n",
              "      <td>5</td>\n",
              "      <td>7</td>\n",
              "      <td>1050</td>\n",
              "      <td>910</td>\n",
              "      <td>1965</td>\n",
              "      <td>98136</td>\n",
              "      <td>47.5208</td>\n",
              "      <td>-122.393</td>\n",
              "      <td>1360</td>\n",
              "      <td>5000</td>\n",
              "      <td>12</td>\n",
              "      <td>2014</td>\n",
              "    </tr>\n",
              "    <tr>\n",
              "      <th>4</th>\n",
              "      <td>2015-02-18</td>\n",
              "      <td>510000.0</td>\n",
              "      <td>3</td>\n",
              "      <td>2.00</td>\n",
              "      <td>1680</td>\n",
              "      <td>8080</td>\n",
              "      <td>1.0</td>\n",
              "      <td>0</td>\n",
              "      <td>0</td>\n",
              "      <td>3</td>\n",
              "      <td>8</td>\n",
              "      <td>1680</td>\n",
              "      <td>0</td>\n",
              "      <td>1987</td>\n",
              "      <td>98074</td>\n",
              "      <td>47.6168</td>\n",
              "      <td>-122.045</td>\n",
              "      <td>1800</td>\n",
              "      <td>7503</td>\n",
              "      <td>2</td>\n",
              "      <td>2015</td>\n",
              "    </tr>\n",
              "    <tr>\n",
              "      <th>...</th>\n",
              "      <td>...</td>\n",
              "      <td>...</td>\n",
              "      <td>...</td>\n",
              "      <td>...</td>\n",
              "      <td>...</td>\n",
              "      <td>...</td>\n",
              "      <td>...</td>\n",
              "      <td>...</td>\n",
              "      <td>...</td>\n",
              "      <td>...</td>\n",
              "      <td>...</td>\n",
              "      <td>...</td>\n",
              "      <td>...</td>\n",
              "      <td>...</td>\n",
              "      <td>...</td>\n",
              "      <td>...</td>\n",
              "      <td>...</td>\n",
              "      <td>...</td>\n",
              "      <td>...</td>\n",
              "      <td>...</td>\n",
              "      <td>...</td>\n",
              "    </tr>\n",
              "    <tr>\n",
              "      <th>21608</th>\n",
              "      <td>2014-05-21</td>\n",
              "      <td>360000.0</td>\n",
              "      <td>3</td>\n",
              "      <td>2.50</td>\n",
              "      <td>1530</td>\n",
              "      <td>1131</td>\n",
              "      <td>3.0</td>\n",
              "      <td>0</td>\n",
              "      <td>0</td>\n",
              "      <td>3</td>\n",
              "      <td>8</td>\n",
              "      <td>1530</td>\n",
              "      <td>0</td>\n",
              "      <td>2009</td>\n",
              "      <td>98103</td>\n",
              "      <td>47.6993</td>\n",
              "      <td>-122.346</td>\n",
              "      <td>1530</td>\n",
              "      <td>1509</td>\n",
              "      <td>5</td>\n",
              "      <td>2014</td>\n",
              "    </tr>\n",
              "    <tr>\n",
              "      <th>21609</th>\n",
              "      <td>2015-02-23</td>\n",
              "      <td>400000.0</td>\n",
              "      <td>4</td>\n",
              "      <td>2.50</td>\n",
              "      <td>2310</td>\n",
              "      <td>5813</td>\n",
              "      <td>2.0</td>\n",
              "      <td>0</td>\n",
              "      <td>0</td>\n",
              "      <td>3</td>\n",
              "      <td>8</td>\n",
              "      <td>2310</td>\n",
              "      <td>0</td>\n",
              "      <td>2014</td>\n",
              "      <td>98146</td>\n",
              "      <td>47.5107</td>\n",
              "      <td>-122.362</td>\n",
              "      <td>1830</td>\n",
              "      <td>7200</td>\n",
              "      <td>2</td>\n",
              "      <td>2015</td>\n",
              "    </tr>\n",
              "    <tr>\n",
              "      <th>21610</th>\n",
              "      <td>2014-06-23</td>\n",
              "      <td>402101.0</td>\n",
              "      <td>2</td>\n",
              "      <td>0.75</td>\n",
              "      <td>1020</td>\n",
              "      <td>1350</td>\n",
              "      <td>2.0</td>\n",
              "      <td>0</td>\n",
              "      <td>0</td>\n",
              "      <td>3</td>\n",
              "      <td>7</td>\n",
              "      <td>1020</td>\n",
              "      <td>0</td>\n",
              "      <td>2009</td>\n",
              "      <td>98144</td>\n",
              "      <td>47.5944</td>\n",
              "      <td>-122.299</td>\n",
              "      <td>1020</td>\n",
              "      <td>2007</td>\n",
              "      <td>6</td>\n",
              "      <td>2014</td>\n",
              "    </tr>\n",
              "    <tr>\n",
              "      <th>21611</th>\n",
              "      <td>2015-01-16</td>\n",
              "      <td>400000.0</td>\n",
              "      <td>3</td>\n",
              "      <td>2.50</td>\n",
              "      <td>1600</td>\n",
              "      <td>2388</td>\n",
              "      <td>2.0</td>\n",
              "      <td>0</td>\n",
              "      <td>0</td>\n",
              "      <td>3</td>\n",
              "      <td>8</td>\n",
              "      <td>1600</td>\n",
              "      <td>0</td>\n",
              "      <td>2004</td>\n",
              "      <td>98027</td>\n",
              "      <td>47.5345</td>\n",
              "      <td>-122.069</td>\n",
              "      <td>1410</td>\n",
              "      <td>1287</td>\n",
              "      <td>1</td>\n",
              "      <td>2015</td>\n",
              "    </tr>\n",
              "    <tr>\n",
              "      <th>21612</th>\n",
              "      <td>2014-10-15</td>\n",
              "      <td>325000.0</td>\n",
              "      <td>2</td>\n",
              "      <td>0.75</td>\n",
              "      <td>1020</td>\n",
              "      <td>1076</td>\n",
              "      <td>2.0</td>\n",
              "      <td>0</td>\n",
              "      <td>0</td>\n",
              "      <td>3</td>\n",
              "      <td>7</td>\n",
              "      <td>1020</td>\n",
              "      <td>0</td>\n",
              "      <td>2008</td>\n",
              "      <td>98144</td>\n",
              "      <td>47.5941</td>\n",
              "      <td>-122.299</td>\n",
              "      <td>1020</td>\n",
              "      <td>1357</td>\n",
              "      <td>10</td>\n",
              "      <td>2014</td>\n",
              "    </tr>\n",
              "  </tbody>\n",
              "</table>\n",
              "<p>21613 rows × 21 columns</p>\n",
              "</div>"
            ],
            "text/plain": [
              "            date     price  bedrooms  ...  sqft_lot15  month  year\n",
              "0     2014-10-13  221900.0         3  ...        5650     10  2014\n",
              "1     2014-12-09  538000.0         3  ...        7639     12  2014\n",
              "2     2015-02-25  180000.0         2  ...        8062      2  2015\n",
              "3     2014-12-09  604000.0         4  ...        5000     12  2014\n",
              "4     2015-02-18  510000.0         3  ...        7503      2  2015\n",
              "...          ...       ...       ...  ...         ...    ...   ...\n",
              "21608 2014-05-21  360000.0         3  ...        1509      5  2014\n",
              "21609 2015-02-23  400000.0         4  ...        7200      2  2015\n",
              "21610 2014-06-23  402101.0         2  ...        2007      6  2014\n",
              "21611 2015-01-16  400000.0         3  ...        1287      1  2015\n",
              "21612 2014-10-15  325000.0         2  ...        1357     10  2014\n",
              "\n",
              "[21613 rows x 21 columns]"
            ]
          },
          "metadata": {
            "tags": []
          },
          "execution_count": 27
        }
      ]
    },
    {
      "cell_type": "code",
      "metadata": {
        "id": "ACSpPFa3HNG-",
        "colab_type": "code",
        "colab": {}
      },
      "source": [
        "df[\"sqft_basement\"]\n",
        "X=df.drop(\"date\",axis=1)"
      ],
      "execution_count": 28,
      "outputs": []
    },
    {
      "cell_type": "code",
      "metadata": {
        "id": "SWoSzFwSHYPr",
        "colab_type": "code",
        "colab": {}
      },
      "source": [
        "from sklearn.feature_selection import VarianceThreshold"
      ],
      "execution_count": 29,
      "outputs": []
    },
    {
      "cell_type": "code",
      "metadata": {
        "id": "Cs4EVDf-HjBM",
        "colab_type": "code",
        "colab": {}
      },
      "source": [
        "sel=VarianceThreshold(threshold=0.01)"
      ],
      "execution_count": 30,
      "outputs": []
    },
    {
      "cell_type": "code",
      "metadata": {
        "id": "UXVs4ApMHu8r",
        "colab_type": "code",
        "colab": {
          "base_uri": "https://localhost:8080/",
          "height": 34
        },
        "outputId": "eca5bab8-2ef9-4ef4-957b-2539d1fe2221"
      },
      "source": [
        "sel.fit(X,y)"
      ],
      "execution_count": 31,
      "outputs": [
        {
          "output_type": "execute_result",
          "data": {
            "text/plain": [
              "VarianceThreshold(threshold=0.01)"
            ]
          },
          "metadata": {
            "tags": []
          },
          "execution_count": 31
        }
      ]
    },
    {
      "cell_type": "code",
      "metadata": {
        "id": "w1-DZsETHyJR",
        "colab_type": "code",
        "colab": {
          "base_uri": "https://localhost:8080/",
          "height": 67
        },
        "outputId": "b60e5fe5-f46c-4f6c-d223-3181c9f2ddf4"
      },
      "source": [
        "sel.get_support()"
      ],
      "execution_count": 32,
      "outputs": [
        {
          "output_type": "execute_result",
          "data": {
            "text/plain": [
              "array([ True,  True,  True,  True,  True,  True, False,  True,  True,\n",
              "        True,  True,  True,  True,  True,  True,  True,  True,  True,\n",
              "        True,  True])"
            ]
          },
          "metadata": {
            "tags": []
          },
          "execution_count": 32
        }
      ]
    },
    {
      "cell_type": "code",
      "metadata": {
        "id": "7ujsX8wuIE5q",
        "colab_type": "code",
        "colab": {
          "base_uri": "https://localhost:8080/",
          "height": 101
        },
        "outputId": "643f2d3f-a2a1-4815-a066-b8936f0cf6c8"
      },
      "source": [
        "df.columns"
      ],
      "execution_count": 33,
      "outputs": [
        {
          "output_type": "execute_result",
          "data": {
            "text/plain": [
              "Index(['date', 'price', 'bedrooms', 'bathrooms', 'sqft_living', 'sqft_lot',\n",
              "       'floors', 'waterfront', 'view', 'condition', 'grade', 'sqft_above',\n",
              "       'sqft_basement', 'yr_built', 'zipcode', 'lat', 'long', 'sqft_living15',\n",
              "       'sqft_lot15', 'month', 'year'],\n",
              "      dtype='object')"
            ]
          },
          "metadata": {
            "tags": []
          },
          "execution_count": 33
        }
      ]
    },
    {
      "cell_type": "code",
      "metadata": {
        "id": "ckmLT1DUITnS",
        "colab_type": "code",
        "colab": {}
      },
      "source": [
        ""
      ],
      "execution_count": 33,
      "outputs": []
    },
    {
      "cell_type": "code",
      "metadata": {
        "id": "EmZXvlqlIjKM",
        "colab_type": "code",
        "colab": {}
      },
      "source": [
        ""
      ],
      "execution_count": 33,
      "outputs": []
    },
    {
      "cell_type": "code",
      "metadata": {
        "id": "PV2HaG6eKN_6",
        "colab_type": "code",
        "colab": {}
      },
      "source": [
        "X=X.drop([\"price\",\"condition\"],axis=1)"
      ],
      "execution_count": 34,
      "outputs": []
    },
    {
      "cell_type": "code",
      "metadata": {
        "id": "TXCP0w5gKXWm",
        "colab_type": "code",
        "colab": {
          "base_uri": "https://localhost:8080/",
          "height": 422
        },
        "outputId": "51ee4971-a9e2-4a76-b1c8-a356a9455a7a"
      },
      "source": [
        "X"
      ],
      "execution_count": 35,
      "outputs": [
        {
          "output_type": "execute_result",
          "data": {
            "text/html": [
              "<div>\n",
              "<style scoped>\n",
              "    .dataframe tbody tr th:only-of-type {\n",
              "        vertical-align: middle;\n",
              "    }\n",
              "\n",
              "    .dataframe tbody tr th {\n",
              "        vertical-align: top;\n",
              "    }\n",
              "\n",
              "    .dataframe thead th {\n",
              "        text-align: right;\n",
              "    }\n",
              "</style>\n",
              "<table border=\"1\" class=\"dataframe\">\n",
              "  <thead>\n",
              "    <tr style=\"text-align: right;\">\n",
              "      <th></th>\n",
              "      <th>bedrooms</th>\n",
              "      <th>bathrooms</th>\n",
              "      <th>sqft_living</th>\n",
              "      <th>sqft_lot</th>\n",
              "      <th>floors</th>\n",
              "      <th>waterfront</th>\n",
              "      <th>view</th>\n",
              "      <th>grade</th>\n",
              "      <th>sqft_above</th>\n",
              "      <th>sqft_basement</th>\n",
              "      <th>yr_built</th>\n",
              "      <th>zipcode</th>\n",
              "      <th>lat</th>\n",
              "      <th>long</th>\n",
              "      <th>sqft_living15</th>\n",
              "      <th>sqft_lot15</th>\n",
              "      <th>month</th>\n",
              "      <th>year</th>\n",
              "    </tr>\n",
              "  </thead>\n",
              "  <tbody>\n",
              "    <tr>\n",
              "      <th>0</th>\n",
              "      <td>3</td>\n",
              "      <td>1.00</td>\n",
              "      <td>1180</td>\n",
              "      <td>5650</td>\n",
              "      <td>1.0</td>\n",
              "      <td>0</td>\n",
              "      <td>0</td>\n",
              "      <td>7</td>\n",
              "      <td>1180</td>\n",
              "      <td>0</td>\n",
              "      <td>1955</td>\n",
              "      <td>98178</td>\n",
              "      <td>47.5112</td>\n",
              "      <td>-122.257</td>\n",
              "      <td>1340</td>\n",
              "      <td>5650</td>\n",
              "      <td>10</td>\n",
              "      <td>2014</td>\n",
              "    </tr>\n",
              "    <tr>\n",
              "      <th>1</th>\n",
              "      <td>3</td>\n",
              "      <td>2.25</td>\n",
              "      <td>2570</td>\n",
              "      <td>7242</td>\n",
              "      <td>2.0</td>\n",
              "      <td>0</td>\n",
              "      <td>0</td>\n",
              "      <td>7</td>\n",
              "      <td>2170</td>\n",
              "      <td>400</td>\n",
              "      <td>1951</td>\n",
              "      <td>98125</td>\n",
              "      <td>47.7210</td>\n",
              "      <td>-122.319</td>\n",
              "      <td>1690</td>\n",
              "      <td>7639</td>\n",
              "      <td>12</td>\n",
              "      <td>2014</td>\n",
              "    </tr>\n",
              "    <tr>\n",
              "      <th>2</th>\n",
              "      <td>2</td>\n",
              "      <td>1.00</td>\n",
              "      <td>770</td>\n",
              "      <td>10000</td>\n",
              "      <td>1.0</td>\n",
              "      <td>0</td>\n",
              "      <td>0</td>\n",
              "      <td>6</td>\n",
              "      <td>770</td>\n",
              "      <td>0</td>\n",
              "      <td>1933</td>\n",
              "      <td>98028</td>\n",
              "      <td>47.7379</td>\n",
              "      <td>-122.233</td>\n",
              "      <td>2720</td>\n",
              "      <td>8062</td>\n",
              "      <td>2</td>\n",
              "      <td>2015</td>\n",
              "    </tr>\n",
              "    <tr>\n",
              "      <th>3</th>\n",
              "      <td>4</td>\n",
              "      <td>3.00</td>\n",
              "      <td>1960</td>\n",
              "      <td>5000</td>\n",
              "      <td>1.0</td>\n",
              "      <td>0</td>\n",
              "      <td>0</td>\n",
              "      <td>7</td>\n",
              "      <td>1050</td>\n",
              "      <td>910</td>\n",
              "      <td>1965</td>\n",
              "      <td>98136</td>\n",
              "      <td>47.5208</td>\n",
              "      <td>-122.393</td>\n",
              "      <td>1360</td>\n",
              "      <td>5000</td>\n",
              "      <td>12</td>\n",
              "      <td>2014</td>\n",
              "    </tr>\n",
              "    <tr>\n",
              "      <th>4</th>\n",
              "      <td>3</td>\n",
              "      <td>2.00</td>\n",
              "      <td>1680</td>\n",
              "      <td>8080</td>\n",
              "      <td>1.0</td>\n",
              "      <td>0</td>\n",
              "      <td>0</td>\n",
              "      <td>8</td>\n",
              "      <td>1680</td>\n",
              "      <td>0</td>\n",
              "      <td>1987</td>\n",
              "      <td>98074</td>\n",
              "      <td>47.6168</td>\n",
              "      <td>-122.045</td>\n",
              "      <td>1800</td>\n",
              "      <td>7503</td>\n",
              "      <td>2</td>\n",
              "      <td>2015</td>\n",
              "    </tr>\n",
              "    <tr>\n",
              "      <th>...</th>\n",
              "      <td>...</td>\n",
              "      <td>...</td>\n",
              "      <td>...</td>\n",
              "      <td>...</td>\n",
              "      <td>...</td>\n",
              "      <td>...</td>\n",
              "      <td>...</td>\n",
              "      <td>...</td>\n",
              "      <td>...</td>\n",
              "      <td>...</td>\n",
              "      <td>...</td>\n",
              "      <td>...</td>\n",
              "      <td>...</td>\n",
              "      <td>...</td>\n",
              "      <td>...</td>\n",
              "      <td>...</td>\n",
              "      <td>...</td>\n",
              "      <td>...</td>\n",
              "    </tr>\n",
              "    <tr>\n",
              "      <th>21608</th>\n",
              "      <td>3</td>\n",
              "      <td>2.50</td>\n",
              "      <td>1530</td>\n",
              "      <td>1131</td>\n",
              "      <td>3.0</td>\n",
              "      <td>0</td>\n",
              "      <td>0</td>\n",
              "      <td>8</td>\n",
              "      <td>1530</td>\n",
              "      <td>0</td>\n",
              "      <td>2009</td>\n",
              "      <td>98103</td>\n",
              "      <td>47.6993</td>\n",
              "      <td>-122.346</td>\n",
              "      <td>1530</td>\n",
              "      <td>1509</td>\n",
              "      <td>5</td>\n",
              "      <td>2014</td>\n",
              "    </tr>\n",
              "    <tr>\n",
              "      <th>21609</th>\n",
              "      <td>4</td>\n",
              "      <td>2.50</td>\n",
              "      <td>2310</td>\n",
              "      <td>5813</td>\n",
              "      <td>2.0</td>\n",
              "      <td>0</td>\n",
              "      <td>0</td>\n",
              "      <td>8</td>\n",
              "      <td>2310</td>\n",
              "      <td>0</td>\n",
              "      <td>2014</td>\n",
              "      <td>98146</td>\n",
              "      <td>47.5107</td>\n",
              "      <td>-122.362</td>\n",
              "      <td>1830</td>\n",
              "      <td>7200</td>\n",
              "      <td>2</td>\n",
              "      <td>2015</td>\n",
              "    </tr>\n",
              "    <tr>\n",
              "      <th>21610</th>\n",
              "      <td>2</td>\n",
              "      <td>0.75</td>\n",
              "      <td>1020</td>\n",
              "      <td>1350</td>\n",
              "      <td>2.0</td>\n",
              "      <td>0</td>\n",
              "      <td>0</td>\n",
              "      <td>7</td>\n",
              "      <td>1020</td>\n",
              "      <td>0</td>\n",
              "      <td>2009</td>\n",
              "      <td>98144</td>\n",
              "      <td>47.5944</td>\n",
              "      <td>-122.299</td>\n",
              "      <td>1020</td>\n",
              "      <td>2007</td>\n",
              "      <td>6</td>\n",
              "      <td>2014</td>\n",
              "    </tr>\n",
              "    <tr>\n",
              "      <th>21611</th>\n",
              "      <td>3</td>\n",
              "      <td>2.50</td>\n",
              "      <td>1600</td>\n",
              "      <td>2388</td>\n",
              "      <td>2.0</td>\n",
              "      <td>0</td>\n",
              "      <td>0</td>\n",
              "      <td>8</td>\n",
              "      <td>1600</td>\n",
              "      <td>0</td>\n",
              "      <td>2004</td>\n",
              "      <td>98027</td>\n",
              "      <td>47.5345</td>\n",
              "      <td>-122.069</td>\n",
              "      <td>1410</td>\n",
              "      <td>1287</td>\n",
              "      <td>1</td>\n",
              "      <td>2015</td>\n",
              "    </tr>\n",
              "    <tr>\n",
              "      <th>21612</th>\n",
              "      <td>2</td>\n",
              "      <td>0.75</td>\n",
              "      <td>1020</td>\n",
              "      <td>1076</td>\n",
              "      <td>2.0</td>\n",
              "      <td>0</td>\n",
              "      <td>0</td>\n",
              "      <td>7</td>\n",
              "      <td>1020</td>\n",
              "      <td>0</td>\n",
              "      <td>2008</td>\n",
              "      <td>98144</td>\n",
              "      <td>47.5941</td>\n",
              "      <td>-122.299</td>\n",
              "      <td>1020</td>\n",
              "      <td>1357</td>\n",
              "      <td>10</td>\n",
              "      <td>2014</td>\n",
              "    </tr>\n",
              "  </tbody>\n",
              "</table>\n",
              "<p>21613 rows × 18 columns</p>\n",
              "</div>"
            ],
            "text/plain": [
              "       bedrooms  bathrooms  sqft_living  ...  sqft_lot15  month  year\n",
              "0             3       1.00         1180  ...        5650     10  2014\n",
              "1             3       2.25         2570  ...        7639     12  2014\n",
              "2             2       1.00          770  ...        8062      2  2015\n",
              "3             4       3.00         1960  ...        5000     12  2014\n",
              "4             3       2.00         1680  ...        7503      2  2015\n",
              "...         ...        ...          ...  ...         ...    ...   ...\n",
              "21608         3       2.50         1530  ...        1509      5  2014\n",
              "21609         4       2.50         2310  ...        7200      2  2015\n",
              "21610         2       0.75         1020  ...        2007      6  2014\n",
              "21611         3       2.50         1600  ...        1287      1  2015\n",
              "21612         2       0.75         1020  ...        1357     10  2014\n",
              "\n",
              "[21613 rows x 18 columns]"
            ]
          },
          "metadata": {
            "tags": []
          },
          "execution_count": 35
        }
      ]
    },
    {
      "cell_type": "markdown",
      "metadata": {
        "id": "hvMt8zdAxnM2",
        "colab_type": "text"
      },
      "source": [
        "## CREATING THE ANN  MODEL FOR OUR REGRESSION PROBLEM"
      ]
    },
    {
      "cell_type": "code",
      "metadata": {
        "id": "IPiFFI6XKrLr",
        "colab_type": "code",
        "colab": {}
      },
      "source": [
        "from sklearn.model_selection import train_test_split"
      ],
      "execution_count": 36,
      "outputs": []
    },
    {
      "cell_type": "code",
      "metadata": {
        "id": "-mi4H9GdK1Oa",
        "colab_type": "code",
        "colab": {}
      },
      "source": [
        "X_train,X_test,y_train,y_test=train_test_split(X,y,test_size=0.3,random_state=101)"
      ],
      "execution_count": 37,
      "outputs": []
    },
    {
      "cell_type": "code",
      "metadata": {
        "id": "VD2B3tkmLJZs",
        "colab_type": "code",
        "colab": {}
      },
      "source": [
        "from sklearn.preprocessing import StandardScaler"
      ],
      "execution_count": 38,
      "outputs": []
    },
    {
      "cell_type": "code",
      "metadata": {
        "id": "VSyDuakPLOwx",
        "colab_type": "code",
        "colab": {}
      },
      "source": [
        "scaler=StandardScaler()"
      ],
      "execution_count": 39,
      "outputs": []
    },
    {
      "cell_type": "code",
      "metadata": {
        "id": "5nxp9DSrLcWg",
        "colab_type": "code",
        "colab": {}
      },
      "source": [
        "X_train=scaler.fit_transform(X_train)"
      ],
      "execution_count": 40,
      "outputs": []
    },
    {
      "cell_type": "code",
      "metadata": {
        "id": "YTNJcUCLLjX-",
        "colab_type": "code",
        "colab": {}
      },
      "source": [
        "X_test=scaler.transform(X_test)"
      ],
      "execution_count": 41,
      "outputs": []
    },
    {
      "cell_type": "code",
      "metadata": {
        "id": "Akat26R8Lhpq",
        "colab_type": "code",
        "colab": {
          "base_uri": "https://localhost:8080/",
          "height": 34
        },
        "outputId": "5dd05118-6891-47f8-ae98-8ebc9d56da84"
      },
      "source": [
        "from keras.models import Sequential\n",
        "from keras.layers import Dense"
      ],
      "execution_count": 42,
      "outputs": [
        {
          "output_type": "stream",
          "text": [
            "Using TensorFlow backend.\n"
          ],
          "name": "stderr"
        }
      ]
    },
    {
      "cell_type": "code",
      "metadata": {
        "id": "yGt0yo26L494",
        "colab_type": "code",
        "colab": {
          "base_uri": "https://localhost:8080/",
          "height": 34
        },
        "outputId": "10f1069c-5277-4b73-a6fb-f3587cde7ad3"
      },
      "source": [
        "model=Sequential()\n",
        "len(X.columns)\n"
      ],
      "execution_count": 43,
      "outputs": [
        {
          "output_type": "execute_result",
          "data": {
            "text/plain": [
              "18"
            ]
          },
          "metadata": {
            "tags": []
          },
          "execution_count": 43
        }
      ]
    },
    {
      "cell_type": "code",
      "metadata": {
        "id": "rAub-KNwL7j_",
        "colab_type": "code",
        "colab": {}
      },
      "source": [
        "model.add(Dense(units=len(X.columns),activation='relu',input_dim=18))"
      ],
      "execution_count": 44,
      "outputs": []
    },
    {
      "cell_type": "code",
      "metadata": {
        "id": "up4pypKPMUT2",
        "colab_type": "code",
        "colab": {}
      },
      "source": [
        "model.add(Dense(units=len(X.columns),activation='relu'))\n",
        "model.add(Dense(units=len(X.columns),activation='relu'))\n",
        "model.add(Dense(units=len(X.columns),activation='relu'))\n",
        "model.add(Dense(units=len(X.columns),activation='relu'))\n",
        "model.add(Dense(units=1))"
      ],
      "execution_count": 45,
      "outputs": []
    },
    {
      "cell_type": "code",
      "metadata": {
        "id": "SbLtdDF0M3B9",
        "colab_type": "code",
        "colab": {}
      },
      "source": [
        "model.compile(optimizer=\"adam\", loss=\"mse\")"
      ],
      "execution_count": 46,
      "outputs": []
    },
    {
      "cell_type": "code",
      "metadata": {
        "id": "HEeUW1pjOLS0",
        "colab_type": "code",
        "colab": {
          "base_uri": "https://localhost:8080/",
          "height": 1000
        },
        "outputId": "2930b9ee-4d3d-4f63-e4ef-f4fcf0227330"
      },
      "source": [
        "model.fit(X_train,y_train,validation_data=(X_test,y_test),batch_size=120,epochs=400)"
      ],
      "execution_count": 47,
      "outputs": [
        {
          "output_type": "stream",
          "text": [
            "Train on 15129 samples, validate on 6484 samples\n",
            "Epoch 1/400\n",
            "15129/15129 [==============================] - 0s 23us/step - loss: 423536062174.0392 - val_loss: 432289271785.2585\n",
            "Epoch 2/400\n",
            "15129/15129 [==============================] - 0s 14us/step - loss: 400242461512.2364 - val_loss: 335991876179.0697\n",
            "Epoch 3/400\n",
            "15129/15129 [==============================] - 0s 14us/step - loss: 185426294975.6827 - val_loss: 78457062684.9007\n",
            "Epoch 4/400\n",
            "15129/15129 [==============================] - 0s 13us/step - loss: 70322211546.8919 - val_loss: 60694058319.4374\n",
            "Epoch 5/400\n",
            "15129/15129 [==============================] - 0s 14us/step - loss: 58902303217.8878 - val_loss: 53664441004.7724\n",
            "Epoch 6/400\n",
            "15129/15129 [==============================] - 0s 13us/step - loss: 52637771206.2312 - val_loss: 48813873072.4047\n",
            "Epoch 7/400\n",
            "15129/15129 [==============================] - 0s 15us/step - loss: 48274341777.1327 - val_loss: 44949353684.8859\n",
            "Epoch 8/400\n",
            "15129/15129 [==============================] - 0s 13us/step - loss: 44873596387.6740 - val_loss: 42561166721.9741\n",
            "Epoch 9/400\n",
            "15129/15129 [==============================] - 0s 14us/step - loss: 42489934885.5649 - val_loss: 40292699509.3399\n",
            "Epoch 10/400\n",
            "15129/15129 [==============================] - 0s 14us/step - loss: 40681447013.4253 - val_loss: 38894830681.0709\n",
            "Epoch 11/400\n",
            "15129/15129 [==============================] - 0s 14us/step - loss: 39173789751.0276 - val_loss: 38244430547.9383\n",
            "Epoch 12/400\n",
            "15129/15129 [==============================] - 0s 13us/step - loss: 38207374572.9637 - val_loss: 36901543812.1851\n",
            "Epoch 13/400\n",
            "15129/15129 [==============================] - 0s 13us/step - loss: 37318069725.3793 - val_loss: 36268203396.5009\n",
            "Epoch 14/400\n",
            "15129/15129 [==============================] - 0s 13us/step - loss: 36822521958.7452 - val_loss: 35844006975.8026\n",
            "Epoch 15/400\n",
            "15129/15129 [==============================] - 0s 14us/step - loss: 36290496560.3268 - val_loss: 35219440725.2807\n",
            "Epoch 16/400\n",
            "15129/15129 [==============================] - 0s 14us/step - loss: 35780257896.3696 - val_loss: 34887950560.8883\n",
            "Epoch 17/400\n",
            "15129/15129 [==============================] - 0s 14us/step - loss: 35335326012.3577 - val_loss: 34518594023.6792\n",
            "Epoch 18/400\n",
            "15129/15129 [==============================] - 0s 13us/step - loss: 34972479020.9764 - val_loss: 34260202566.1197\n",
            "Epoch 19/400\n",
            "15129/15129 [==============================] - 0s 13us/step - loss: 34753405345.0724 - val_loss: 34097110722.8822\n",
            "Epoch 20/400\n",
            "15129/15129 [==============================] - 0s 13us/step - loss: 34491328261.8378 - val_loss: 33764463502.9241\n",
            "Epoch 21/400\n",
            "15129/15129 [==============================] - 0s 14us/step - loss: 34151047717.5142 - val_loss: 34203075902.3812\n",
            "Epoch 22/400\n",
            "15129/15129 [==============================] - 0s 13us/step - loss: 33948717208.2395 - val_loss: 33442859451.4596\n",
            "Epoch 23/400\n",
            "15129/15129 [==============================] - 0s 14us/step - loss: 33812720961.2310 - val_loss: 33147826174.7366\n",
            "Epoch 24/400\n",
            "15129/15129 [==============================] - 0s 13us/step - loss: 33545187777.9671 - val_loss: 32901129353.0808\n",
            "Epoch 25/400\n",
            "15129/15129 [==============================] - 0s 14us/step - loss: 33462017820.5798 - val_loss: 32743789132.7526\n",
            "Epoch 26/400\n",
            "15129/15129 [==============================] - 0s 13us/step - loss: 33283144832.7361 - val_loss: 32642324083.2869\n",
            "Epoch 27/400\n",
            "15129/15129 [==============================] - 0s 13us/step - loss: 33027083578.3272 - val_loss: 32754159756.2394\n",
            "Epoch 28/400\n",
            "15129/15129 [==============================] - 0s 14us/step - loss: 32909570811.1775 - val_loss: 32400464264.9229\n",
            "Epoch 29/400\n",
            "15129/15129 [==============================] - 0s 15us/step - loss: 32679637189.3682 - val_loss: 32187401327.8125\n",
            "Epoch 30/400\n",
            "15129/15129 [==============================] - 0s 14us/step - loss: 32515523022.5564 - val_loss: 32270102923.4497\n",
            "Epoch 31/400\n",
            "15129/15129 [==============================] - 0s 13us/step - loss: 32398788825.4706 - val_loss: 31865779618.8230\n",
            "Epoch 32/400\n",
            "15129/15129 [==============================] - 0s 13us/step - loss: 32157547849.5562 - val_loss: 31886576429.6410\n",
            "Epoch 33/400\n",
            "15129/15129 [==============================] - 0s 13us/step - loss: 32107668788.4386 - val_loss: 31552784342.3072\n",
            "Epoch 34/400\n",
            "15129/15129 [==============================] - 0s 13us/step - loss: 31979625079.4971 - val_loss: 31445571417.8606\n",
            "Epoch 35/400\n",
            "15129/15129 [==============================] - 0s 14us/step - loss: 31871106598.8848 - val_loss: 31303212371.2276\n",
            "Epoch 36/400\n",
            "15129/15129 [==============================] - 0s 13us/step - loss: 31730939657.1882 - val_loss: 31199805150.6774\n",
            "Epoch 37/400\n",
            "15129/15129 [==============================] - 0s 14us/step - loss: 31534460673.7767 - val_loss: 31119291687.0080\n",
            "Epoch 38/400\n",
            "15129/15129 [==============================] - 0s 13us/step - loss: 31460130401.7704 - val_loss: 30998006745.4658\n",
            "Epoch 39/400\n",
            "15129/15129 [==============================] - 0s 13us/step - loss: 31392945722.3779 - val_loss: 30898657880.1234\n",
            "Epoch 40/400\n",
            "15129/15129 [==============================] - 0s 13us/step - loss: 31276239026.2812 - val_loss: 30885381167.3782\n",
            "Epoch 41/400\n",
            "15129/15129 [==============================] - 0s 13us/step - loss: 31203967309.6173 - val_loss: 30704069774.1345\n",
            "Epoch 42/400\n",
            "15129/15129 [==============================] - 0s 13us/step - loss: 31065348552.0587 - val_loss: 30617263238.5540\n",
            "Epoch 43/400\n",
            "15129/15129 [==============================] - 0s 13us/step - loss: 30933160476.7321 - val_loss: 30533623535.1018\n",
            "Epoch 44/400\n",
            "15129/15129 [==============================] - 0s 13us/step - loss: 30890208371.9437 - val_loss: 30451818892.7131\n",
            "Epoch 45/400\n",
            "15129/15129 [==============================] - 0s 13us/step - loss: 30919551437.3381 - val_loss: 30415851532.6342\n",
            "Epoch 46/400\n",
            "15129/15129 [==============================] - 0s 13us/step - loss: 30733985163.6502 - val_loss: 30402774166.9784\n",
            "Epoch 47/400\n",
            "15129/15129 [==============================] - 0s 13us/step - loss: 30566866786.9379 - val_loss: 30400375276.7329\n",
            "Epoch 48/400\n",
            "15129/15129 [==============================] - 0s 13us/step - loss: 30607480072.0714 - val_loss: 30201497045.3597\n",
            "Epoch 49/400\n",
            "15129/15129 [==============================] - 0s 13us/step - loss: 30506483308.3292 - val_loss: 30117398678.3467\n",
            "Epoch 50/400\n",
            "15129/15129 [==============================] - 0s 14us/step - loss: 30533712452.3276 - val_loss: 30166030090.8970\n",
            "Epoch 51/400\n",
            "15129/15129 [==============================] - 0s 13us/step - loss: 30392235411.0617 - val_loss: 30085673461.5768\n",
            "Epoch 52/400\n",
            "15129/15129 [==============================] - 0s 13us/step - loss: 30268328086.6659 - val_loss: 30034569005.0093\n",
            "Epoch 53/400\n",
            "15129/15129 [==============================] - 0s 13us/step - loss: 30159819668.5846 - val_loss: 29863125315.4349\n",
            "Epoch 54/400\n",
            "15129/15129 [==============================] - 0s 13us/step - loss: 30225131709.6522 - val_loss: 29781052359.7779\n",
            "Epoch 55/400\n",
            "15129/15129 [==============================] - 0s 14us/step - loss: 30045158599.6018 - val_loss: 29731979090.9118\n",
            "Epoch 56/400\n",
            "15129/15129 [==============================] - 0s 13us/step - loss: 29977676584.9661 - val_loss: 29815078515.9186\n",
            "Epoch 57/400\n",
            "15129/15129 [==============================] - 0s 13us/step - loss: 29943893706.8507 - val_loss: 29652644879.7927\n",
            "Epoch 58/400\n",
            "15129/15129 [==============================] - 0s 14us/step - loss: 29797178059.1553 - val_loss: 30010218397.4534\n",
            "Epoch 59/400\n",
            "15129/15129 [==============================] - 0s 14us/step - loss: 29833039575.2370 - val_loss: 29631855576.2023\n",
            "Epoch 60/400\n",
            "15129/15129 [==============================] - 0s 13us/step - loss: 29763134268.6623 - val_loss: 29435052845.6410\n",
            "Epoch 61/400\n",
            "15129/15129 [==============================] - 0s 14us/step - loss: 29765934386.0020 - val_loss: 29421559356.9599\n",
            "Epoch 62/400\n",
            "15129/15129 [==============================] - 0s 13us/step - loss: 29792261497.8830 - val_loss: 29443398494.9142\n",
            "Epoch 63/400\n",
            "15129/15129 [==============================] - 0s 13us/step - loss: 29615091288.2268 - val_loss: 29260553039.7532\n",
            "Epoch 64/400\n",
            "15129/15129 [==============================] - 0s 14us/step - loss: 29570190972.5735 - val_loss: 29440534183.7187\n",
            "Epoch 65/400\n",
            "15129/15129 [==============================] - 0s 13us/step - loss: 29629181467.9199 - val_loss: 29218168878.7465\n",
            "Epoch 66/400\n",
            "15129/15129 [==============================] - 0s 14us/step - loss: 29402944377.3754 - val_loss: 29083901958.3171\n",
            "Epoch 67/400\n",
            "15129/15129 [==============================] - 0s 13us/step - loss: 29417045664.1079 - val_loss: 29029224755.0105\n",
            "Epoch 68/400\n",
            "15129/15129 [==============================] - 0s 14us/step - loss: 29292483560.0397 - val_loss: 29050169122.9019\n",
            "Epoch 69/400\n",
            "15129/15129 [==============================] - 0s 14us/step - loss: 29199222336.8757 - val_loss: 29068602006.0308\n",
            "Epoch 70/400\n",
            "15129/15129 [==============================] - 0s 13us/step - loss: 29130314318.0742 - val_loss: 28861309061.9223\n",
            "Epoch 71/400\n",
            "15129/15129 [==============================] - 0s 13us/step - loss: 29118855805.5887 - val_loss: 28810831326.2036\n",
            "Epoch 72/400\n",
            "15129/15129 [==============================] - 0s 13us/step - loss: 29065149489.8497 - val_loss: 28753122740.5108\n",
            "Epoch 73/400\n",
            "15129/15129 [==============================] - 0s 13us/step - loss: 28992458557.6776 - val_loss: 28792458296.2221\n",
            "Epoch 74/400\n",
            "15129/15129 [==============================] - 0s 14us/step - loss: 28895116876.6528 - val_loss: 28738905367.8470\n",
            "Epoch 75/400\n",
            "15129/15129 [==============================] - 0s 13us/step - loss: 28888399093.4920 - val_loss: 28617417709.6804\n",
            "Epoch 76/400\n",
            "15129/15129 [==============================] - 0s 13us/step - loss: 28834768409.0771 - val_loss: 28521680855.5706\n",
            "Epoch 77/400\n",
            "15129/15129 [==============================] - 0s 13us/step - loss: 28719347102.4327 - val_loss: 28542115672.5972\n",
            "Epoch 78/400\n",
            "15129/15129 [==============================] - 0s 13us/step - loss: 28734551294.4263 - val_loss: 28512439996.5651\n",
            "Epoch 79/400\n",
            "15129/15129 [==============================] - 0s 14us/step - loss: 28629125267.4170 - val_loss: 28495530038.3270\n",
            "Epoch 80/400\n",
            "15129/15129 [==============================] - 0s 13us/step - loss: 28611774016.8757 - val_loss: 28606075193.9593\n",
            "Epoch 81/400\n",
            "15129/15129 [==============================] - 0s 14us/step - loss: 28591179029.5745 - val_loss: 28292620152.8143\n",
            "Epoch 82/400\n",
            "15129/15129 [==============================] - 0s 14us/step - loss: 28492181535.6764 - val_loss: 28267582775.4324\n",
            "Epoch 83/400\n",
            "15129/15129 [==============================] - 0s 13us/step - loss: 28471168027.5645 - val_loss: 28234246209.6977\n",
            "Epoch 84/400\n",
            "15129/15129 [==============================] - 0s 14us/step - loss: 28414523980.4497 - val_loss: 28266835000.8538\n",
            "Epoch 85/400\n",
            "15129/15129 [==============================] - 0s 13us/step - loss: 28232396574.4073 - val_loss: 28145374993.2141\n",
            "Epoch 86/400\n",
            "15129/15129 [==============================] - 0s 13us/step - loss: 28229061912.1126 - val_loss: 28074819981.9766\n",
            "Epoch 87/400\n",
            "15129/15129 [==============================] - 0s 13us/step - loss: 28261446743.1608 - val_loss: 27960318051.8100\n",
            "Epoch 88/400\n",
            "15129/15129 [==============================] - 0s 14us/step - loss: 28192371760.1237 - val_loss: 27908767177.9889\n",
            "Epoch 89/400\n",
            "15129/15129 [==============================] - 0s 13us/step - loss: 28102821642.7111 - val_loss: 27922761391.9309\n",
            "Epoch 90/400\n",
            "15129/15129 [==============================] - 0s 13us/step - loss: 27986035949.7252 - val_loss: 27825184539.3214\n",
            "Epoch 91/400\n",
            "15129/15129 [==============================] - 0s 13us/step - loss: 27897316253.3159 - val_loss: 27958285502.1444\n",
            "Epoch 92/400\n",
            "15129/15129 [==============================] - 0s 13us/step - loss: 27957274555.3678 - val_loss: 27776471498.6206\n",
            "Epoch 93/400\n",
            "15129/15129 [==============================] - 0s 13us/step - loss: 27887197751.5352 - val_loss: 27646493989.7446\n",
            "Epoch 94/400\n",
            "15129/15129 [==============================] - 0s 14us/step - loss: 27823026603.6312 - val_loss: 27585877491.6817\n",
            "Epoch 95/400\n",
            "15129/15129 [==============================] - 0s 14us/step - loss: 27729485097.8798 - val_loss: 27546415216.4442\n",
            "Epoch 96/400\n",
            "15129/15129 [==============================] - 0s 14us/step - loss: 27765237224.3442 - val_loss: 27490611661.1474\n",
            "Epoch 97/400\n",
            "15129/15129 [==============================] - 0s 14us/step - loss: 27606732079.5653 - val_loss: 27607057982.2233\n",
            "Epoch 98/400\n",
            "15129/15129 [==============================] - 0s 14us/step - loss: 27659608952.5632 - val_loss: 27408027953.7471\n",
            "Epoch 99/400\n",
            "15129/15129 [==============================] - 0s 14us/step - loss: 27551668965.5523 - val_loss: 27450657510.8896\n",
            "Epoch 100/400\n",
            "15129/15129 [==============================] - 0s 14us/step - loss: 27512540005.2731 - val_loss: 27284335104.9476\n",
            "Epoch 101/400\n",
            "15129/15129 [==============================] - 0s 14us/step - loss: 27441776776.8582 - val_loss: 27306313595.3411\n",
            "Epoch 102/400\n",
            "15129/15129 [==============================] - 0s 14us/step - loss: 27462573525.2572 - val_loss: 27177236847.6545\n",
            "Epoch 103/400\n",
            "15129/15129 [==============================] - 0s 13us/step - loss: 27355367673.3500 - val_loss: 27128044721.5102\n",
            "Epoch 104/400\n",
            "15129/15129 [==============================] - 0s 15us/step - loss: 27310861098.9966 - val_loss: 27130051271.3041\n",
            "Epoch 105/400\n",
            "15129/15129 [==============================] - 0s 14us/step - loss: 27088113540.5433 - val_loss: 27744824656.7008\n",
            "Epoch 106/400\n",
            "15129/15129 [==============================] - 0s 14us/step - loss: 27284374374.2883 - val_loss: 27083592051.4448\n",
            "Epoch 107/400\n",
            "15129/15129 [==============================] - 0s 13us/step - loss: 27141870227.7216 - val_loss: 26932295047.0278\n",
            "Epoch 108/400\n",
            "15129/15129 [==============================] - 0s 14us/step - loss: 27063001300.8003 - val_loss: 26871888885.2609\n",
            "Epoch 109/400\n",
            "15129/15129 [==============================] - 0s 14us/step - loss: 27041996517.3492 - val_loss: 26916418156.3381\n",
            "Epoch 110/400\n",
            "15129/15129 [==============================] - 0s 13us/step - loss: 27041787873.3389 - val_loss: 26910698339.9679\n",
            "Epoch 111/400\n",
            "15129/15129 [==============================] - 0s 13us/step - loss: 26875465809.2215 - val_loss: 26735892620.2394\n",
            "Epoch 112/400\n",
            "15129/15129 [==============================] - 0s 13us/step - loss: 26925250885.2921 - val_loss: 26702054769.5497\n",
            "Epoch 113/400\n",
            "15129/15129 [==============================] - 0s 14us/step - loss: 26805216392.6552 - val_loss: 26636485136.1086\n",
            "Epoch 114/400\n",
            "15129/15129 [==============================] - 0s 14us/step - loss: 26692649929.7847 - val_loss: 26784751631.1610\n",
            "Epoch 115/400\n",
            "15129/15129 [==============================] - 0s 14us/step - loss: 26720716279.3702 - val_loss: 26544081938.3196\n",
            "Epoch 116/400\n",
            "15129/15129 [==============================] - 0s 14us/step - loss: 26594553894.9863 - val_loss: 26676088342.4257\n",
            "Epoch 117/400\n",
            "15129/15129 [==============================] - 0s 14us/step - loss: 26548354469.3365 - val_loss: 26428328787.5435\n",
            "Epoch 118/400\n",
            "15129/15129 [==============================] - 0s 14us/step - loss: 26555224669.1001 - val_loss: 26377852879.9901\n",
            "Epoch 119/400\n",
            "15129/15129 [==============================] - 0s 13us/step - loss: 26414785124.0040 - val_loss: 26305283044.8365\n",
            "Epoch 120/400\n",
            "15129/15129 [==============================] - 0s 14us/step - loss: 26407288129.2310 - val_loss: 26238531131.6965\n",
            "Epoch 121/400\n",
            "15129/15129 [==============================] - 0s 13us/step - loss: 26348330723.9278 - val_loss: 26205084854.5639\n",
            "Epoch 122/400\n",
            "15129/15129 [==============================] - 0s 14us/step - loss: 26257731456.0761 - val_loss: 26510562848.5330\n",
            "Epoch 123/400\n",
            "15129/15129 [==============================] - 0s 13us/step - loss: 26219886979.8326 - val_loss: 26283745900.9698\n",
            "Epoch 124/400\n",
            "15129/15129 [==============================] - 0s 14us/step - loss: 26163771245.3952 - val_loss: 26054865132.2591\n",
            "Epoch 125/400\n",
            "15129/15129 [==============================] - 0s 13us/step - loss: 26167546286.4739 - val_loss: 25998449210.4331\n",
            "Epoch 126/400\n",
            "15129/15129 [==============================] - 0s 13us/step - loss: 26110105963.4662 - val_loss: 25890604462.1937\n",
            "Epoch 127/400\n",
            "15129/15129 [==============================] - 0s 14us/step - loss: 26020418603.2504 - val_loss: 25832634611.2079\n",
            "Epoch 128/400\n",
            "15129/15129 [==============================] - 0s 14us/step - loss: 25905591456.2094 - val_loss: 25822476970.2455\n",
            "Epoch 129/400\n",
            "15129/15129 [==============================] - 0s 14us/step - loss: 25887404945.7418 - val_loss: 25727367965.2165\n",
            "Epoch 130/400\n",
            "15129/15129 [==============================] - 0s 13us/step - loss: 25864131199.2132 - val_loss: 25695083619.8100\n",
            "Epoch 131/400\n",
            "15129/15129 [==============================] - 0s 14us/step - loss: 25905562995.3853 - val_loss: 25610889951.9408\n",
            "Epoch 132/400\n",
            "15129/15129 [==============================] - 0s 14us/step - loss: 25916008612.4735 - val_loss: 25545648354.1518\n",
            "Epoch 133/400\n",
            "15129/15129 [==============================] - 0s 14us/step - loss: 25721114085.0954 - val_loss: 25495199759.7927\n",
            "Epoch 134/400\n",
            "15129/15129 [==============================] - 0s 13us/step - loss: 25591481577.9179 - val_loss: 25496479332.7576\n",
            "Epoch 135/400\n",
            "15129/15129 [==============================] - 0s 14us/step - loss: 25613225073.1009 - val_loss: 25370102715.1437\n",
            "Epoch 136/400\n",
            "15129/15129 [==============================] - 0s 13us/step - loss: 25497357657.8005 - val_loss: 25396946998.3270\n",
            "Epoch 137/400\n",
            "15129/15129 [==============================] - 0s 14us/step - loss: 25426263725.3064 - val_loss: 25609726735.3189\n",
            "Epoch 138/400\n",
            "15129/15129 [==============================] - 0s 14us/step - loss: 25385374154.0892 - val_loss: 25259042204.5059\n",
            "Epoch 139/400\n",
            "15129/15129 [==============================] - 0s 13us/step - loss: 25347454919.8556 - val_loss: 25174297848.2616\n",
            "Epoch 140/400\n",
            "15129/15129 [==============================] - 0s 14us/step - loss: 25293025236.8511 - val_loss: 25133737465.3671\n",
            "Epoch 141/400\n",
            "15129/15129 [==============================] - 0s 13us/step - loss: 25242614674.1479 - val_loss: 25063249904.8390\n",
            "Epoch 142/400\n",
            "15129/15129 [==============================] - 0s 14us/step - loss: 25178148224.7868 - val_loss: 25008742948.3233\n",
            "Epoch 143/400\n",
            "15129/15129 [==============================] - 0s 14us/step - loss: 25150815765.9298 - val_loss: 24940071173.5275\n",
            "Epoch 144/400\n",
            "15129/15129 [==============================] - 0s 14us/step - loss: 25019862954.7174 - val_loss: 24869525047.9062\n",
            "Epoch 145/400\n",
            "15129/15129 [==============================] - 0s 14us/step - loss: 24997300795.3932 - val_loss: 24784227063.3140\n",
            "Epoch 146/400\n",
            "15129/15129 [==============================] - 0s 14us/step - loss: 24947810397.2017 - val_loss: 24750524432.4244\n",
            "Epoch 147/400\n",
            "15129/15129 [==============================] - 0s 13us/step - loss: 24957671762.2875 - val_loss: 24685275388.0518\n",
            "Epoch 148/400\n",
            "15129/15129 [==============================] - 0s 14us/step - loss: 24823906943.9239 - val_loss: 24724677976.2813\n",
            "Epoch 149/400\n",
            "15129/15129 [==============================] - 0s 13us/step - loss: 24748876565.4729 - val_loss: 24583947299.3757\n",
            "Epoch 150/400\n",
            "15129/15129 [==============================] - 0s 13us/step - loss: 24705439760.2443 - val_loss: 24559627255.7878\n",
            "Epoch 151/400\n",
            "15129/15129 [==============================] - 0s 14us/step - loss: 24624954433.5864 - val_loss: 24721299613.9272\n",
            "Epoch 152/400\n",
            "15129/15129 [==============================] - 0s 13us/step - loss: 24643977049.4959 - val_loss: 24463408013.0290\n",
            "Epoch 153/400\n",
            "15129/15129 [==============================] - 0s 14us/step - loss: 24571853531.3488 - val_loss: 24589029593.3078\n",
            "Epoch 154/400\n",
            "15129/15129 [==============================] - 0s 14us/step - loss: 24563049658.2003 - val_loss: 24414808473.9790\n",
            "Epoch 155/400\n",
            "15129/15129 [==============================] - 0s 14us/step - loss: 24554716381.5316 - val_loss: 24276899451.4991\n",
            "Epoch 156/400\n",
            "15129/15129 [==============================] - 0s 13us/step - loss: 24457432331.0157 - val_loss: 24337187422.4405\n",
            "Epoch 157/400\n",
            "15129/15129 [==============================] - 0s 13us/step - loss: 24416381996.4688 - val_loss: 24140409348.1061\n",
            "Epoch 158/400\n",
            "15129/15129 [==============================] - 0s 13us/step - loss: 24367669896.1475 - val_loss: 24076953424.3849\n",
            "Epoch 159/400\n",
            "15129/15129 [==============================] - 0s 13us/step - loss: 24291772911.8065 - val_loss: 24028380920.5774\n",
            "Epoch 160/400\n",
            "15129/15129 [==============================] - 0s 14us/step - loss: 24227678556.0849 - val_loss: 23940311127.1758\n",
            "Epoch 161/400\n",
            "15129/15129 [==============================] - 0s 13us/step - loss: 24143488768.9645 - val_loss: 23929349529.9790\n",
            "Epoch 162/400\n",
            "15129/15129 [==============================] - 0s 14us/step - loss: 24121214013.5507 - val_loss: 23946075464.4886\n",
            "Epoch 163/400\n",
            "15129/15129 [==============================] - 0s 14us/step - loss: 24111441832.0777 - val_loss: 23866092188.9796\n",
            "Epoch 164/400\n",
            "15129/15129 [==============================] - 0s 14us/step - loss: 23980910986.3304 - val_loss: 23901600959.4078\n",
            "Epoch 165/400\n",
            "15129/15129 [==============================] - 0s 13us/step - loss: 24054883688.0143 - val_loss: 23901122684.1308\n",
            "Epoch 166/400\n",
            "15129/15129 [==============================] - 0s 13us/step - loss: 23957404499.3028 - val_loss: 23653124812.9895\n",
            "Epoch 167/400\n",
            "15129/15129 [==============================] - 0s 14us/step - loss: 23969780806.2566 - val_loss: 23699881436.9402\n",
            "Epoch 168/400\n",
            "15129/15129 [==============================] - 0s 13us/step - loss: 23856388689.1200 - val_loss: 23590222845.4732\n",
            "Epoch 169/400\n",
            "15129/15129 [==============================] - 0s 13us/step - loss: 23805793066.3875 - val_loss: 23567033771.0352\n",
            "Epoch 170/400\n",
            "15129/15129 [==============================] - 0s 13us/step - loss: 23765337621.3206 - val_loss: 23493783785.1006\n",
            "Epoch 171/400\n",
            "15129/15129 [==============================] - 0s 14us/step - loss: 23643593631.9556 - val_loss: 23632101635.6323\n",
            "Epoch 172/400\n",
            "15129/15129 [==============================] - 0s 13us/step - loss: 23620058229.9742 - val_loss: 23411602726.0605\n",
            "Epoch 173/400\n",
            "15129/15129 [==============================] - 0s 13us/step - loss: 23490817899.7708 - val_loss: 23318291731.1092\n",
            "Epoch 174/400\n",
            "15129/15129 [==============================] - 0s 13us/step - loss: 23503332784.3014 - val_loss: 23267076216.0247\n",
            "Epoch 175/400\n",
            "15129/15129 [==============================] - 0s 13us/step - loss: 23504492555.9802 - val_loss: 23283761872.1481\n",
            "Epoch 176/400\n",
            "15129/15129 [==============================] - 0s 13us/step - loss: 23355647407.7430 - val_loss: 23188745265.9050\n",
            "Epoch 177/400\n",
            "15129/15129 [==============================] - 0s 14us/step - loss: 23226913545.4928 - val_loss: 23206762363.9729\n",
            "Epoch 178/400\n",
            "15129/15129 [==============================] - 0s 13us/step - loss: 23183884560.2951 - val_loss: 23138015811.2770\n",
            "Epoch 179/400\n",
            "15129/15129 [==============================] - 0s 13us/step - loss: 23114633149.1953 - val_loss: 22950143283.0105\n",
            "Epoch 180/400\n",
            "15129/15129 [==============================] - 0s 14us/step - loss: 23059615860.5528 - val_loss: 22909056606.4405\n",
            "Epoch 181/400\n",
            "15129/15129 [==============================] - 0s 13us/step - loss: 22862064537.6609 - val_loss: 22699992667.2819\n",
            "Epoch 182/400\n",
            "15129/15129 [==============================] - 0s 14us/step - loss: 22702818731.4281 - val_loss: 22627307280.8982\n",
            "Epoch 183/400\n",
            "15129/15129 [==============================] - 0s 14us/step - loss: 22618433568.6917 - val_loss: 22851266189.8186\n",
            "Epoch 184/400\n",
            "15129/15129 [==============================] - 0s 13us/step - loss: 22500033811.9500 - val_loss: 22388626450.9513\n",
            "Epoch 185/400\n",
            "15129/15129 [==============================] - 0s 13us/step - loss: 22399894146.9697 - val_loss: 22299121695.9013\n",
            "Epoch 186/400\n",
            "15129/15129 [==============================] - 0s 13us/step - loss: 22286708034.2463 - val_loss: 22217235694.7859\n",
            "Epoch 187/400\n",
            "15129/15129 [==============================] - 0s 14us/step - loss: 22176869315.6930 - val_loss: 22103469274.2554\n",
            "Epoch 188/400\n",
            "15129/15129 [==============================] - 0s 13us/step - loss: 22083549173.8473 - val_loss: 22141173003.2128\n",
            "Epoch 189/400\n",
            "15129/15129 [==============================] - 0s 13us/step - loss: 22011988275.4234 - val_loss: 21862575244.8711\n",
            "Epoch 190/400\n",
            "15129/15129 [==============================] - 0s 14us/step - loss: 21936622973.9441 - val_loss: 21852507218.1221\n",
            "Epoch 191/400\n",
            "15129/15129 [==============================] - 0s 14us/step - loss: 21793640883.3472 - val_loss: 21845778083.2967\n",
            "Epoch 192/400\n",
            "15129/15129 [==============================] - 0s 14us/step - loss: 21689286371.1156 - val_loss: 21582000189.2758\n",
            "Epoch 193/400\n",
            "15129/15129 [==============================] - 0s 13us/step - loss: 21629788174.1122 - val_loss: 21512513718.5639\n",
            "Epoch 194/400\n",
            "15129/15129 [==============================] - 0s 14us/step - loss: 21467225603.5534 - val_loss: 21360821663.0327\n",
            "Epoch 195/400\n",
            "15129/15129 [==============================] - 0s 13us/step - loss: 21337855200.7805 - val_loss: 21259416561.7866\n",
            "Epoch 196/400\n",
            "15129/15129 [==============================] - 0s 14us/step - loss: 21268498224.9867 - val_loss: 21326914623.1709\n",
            "Epoch 197/400\n",
            "15129/15129 [==============================] - 0s 14us/step - loss: 21148782904.6012 - val_loss: 21078284203.6669\n",
            "Epoch 198/400\n",
            "15129/15129 [==============================] - 0s 14us/step - loss: 21196100804.7591 - val_loss: 21001436711.4818\n",
            "Epoch 199/400\n",
            "15129/15129 [==============================] - 0s 14us/step - loss: 21051820036.4672 - val_loss: 20936187078.0407\n",
            "Epoch 200/400\n",
            "15129/15129 [==============================] - 0s 13us/step - loss: 21004526290.0591 - val_loss: 20838022882.7835\n",
            "Epoch 201/400\n",
            "15129/15129 [==============================] - 0s 14us/step - loss: 20855158502.5675 - val_loss: 20669572396.0617\n",
            "Epoch 202/400\n",
            "15129/15129 [==============================] - 0s 14us/step - loss: 20777461849.3436 - val_loss: 20591055538.1419\n",
            "Epoch 203/400\n",
            "15129/15129 [==============================] - 0s 14us/step - loss: 20713623742.8705 - val_loss: 20609121018.1567\n",
            "Epoch 204/400\n",
            "15129/15129 [==============================] - 0s 13us/step - loss: 20624720620.0500 - val_loss: 20491480501.1425\n",
            "Epoch 205/400\n",
            "15129/15129 [==============================] - 0s 14us/step - loss: 20486423237.4698 - val_loss: 20346173657.3078\n",
            "Epoch 206/400\n",
            "15129/15129 [==============================] - 0s 14us/step - loss: 20474201518.4739 - val_loss: 20256299120.4442\n",
            "Epoch 207/400\n",
            "15129/15129 [==============================] - 0s 14us/step - loss: 20372784369.4309 - val_loss: 20190037263.9506\n",
            "Epoch 208/400\n",
            "15129/15129 [==============================] - 0s 14us/step - loss: 20297061026.7476 - val_loss: 20120703039.8026\n",
            "Epoch 209/400\n",
            "15129/15129 [==============================] - 0s 13us/step - loss: 20214367656.1793 - val_loss: 20079236054.9389\n",
            "Epoch 210/400\n",
            "15129/15129 [==============================] - 0s 14us/step - loss: 20183781891.3504 - val_loss: 20055539971.0006\n",
            "Epoch 211/400\n",
            "15129/15129 [==============================] - 0s 13us/step - loss: 20185267612.9098 - val_loss: 19906378755.7903\n",
            "Epoch 212/400\n",
            "15129/15129 [==============================] - 0s 14us/step - loss: 20063594071.2116 - val_loss: 19978276172.5947\n",
            "Epoch 213/400\n",
            "15129/15129 [==============================] - 0s 13us/step - loss: 20043075362.6714 - val_loss: 19817276331.9827\n",
            "Epoch 214/400\n",
            "15129/15129 [==============================] - 0s 14us/step - loss: 19966153800.0841 - val_loss: 19777984927.0327\n",
            "Epoch 215/400\n",
            "15129/15129 [==============================] - 0s 14us/step - loss: 19879549611.8850 - val_loss: 19715512682.6009\n",
            "Epoch 216/400\n",
            "15129/15129 [==============================] - 0s 14us/step - loss: 19816699932.8336 - val_loss: 19555419073.4608\n",
            "Epoch 217/400\n",
            "15129/15129 [==============================] - 0s 15us/step - loss: 19764377000.1793 - val_loss: 19702336880.2862\n",
            "Epoch 218/400\n",
            "15129/15129 [==============================] - 0s 14us/step - loss: 19727340632.4299 - val_loss: 19460626765.2264\n",
            "Epoch 219/400\n",
            "15129/15129 [==============================] - 0s 14us/step - loss: 19631187461.1779 - val_loss: 19450126720.0790\n",
            "Epoch 220/400\n",
            "15129/15129 [==============================] - 0s 14us/step - loss: 19605374794.0639 - val_loss: 19310589369.5645\n",
            "Epoch 221/400\n",
            "15129/15129 [==============================] - 0s 14us/step - loss: 19554876023.2941 - val_loss: 19340312762.9858\n",
            "Epoch 222/400\n",
            "15129/15129 [==============================] - 0s 14us/step - loss: 19533450222.8420 - val_loss: 19339747919.2795\n",
            "Epoch 223/400\n",
            "15129/15129 [==============================] - 0s 14us/step - loss: 19447469521.3992 - val_loss: 19258039546.1567\n",
            "Epoch 224/400\n",
            "15129/15129 [==============================] - 0s 14us/step - loss: 19384982091.9421 - val_loss: 19092526375.3239\n",
            "Epoch 225/400\n",
            "15129/15129 [==============================] - 0s 14us/step - loss: 19350719635.2140 - val_loss: 19006001467.5386\n",
            "Epoch 226/400\n",
            "15129/15129 [==============================] - 0s 15us/step - loss: 19267264567.2306 - val_loss: 18945130858.6009\n",
            "Epoch 227/400\n",
            "15129/15129 [==============================] - 0s 14us/step - loss: 19202009033.9877 - val_loss: 18895666888.5676\n",
            "Epoch 228/400\n",
            "15129/15129 [==============================] - 0s 15us/step - loss: 19250081190.5548 - val_loss: 18854046240.5330\n",
            "Epoch 229/400\n",
            "15129/15129 [==============================] - 0s 14us/step - loss: 19156608281.4325 - val_loss: 18771546372.8957\n",
            "Epoch 230/400\n",
            "15129/15129 [==============================] - 0s 14us/step - loss: 19063289885.8489 - val_loss: 18738475774.2628\n",
            "Epoch 231/400\n",
            "15129/15129 [==============================] - 0s 14us/step - loss: 18974663508.6226 - val_loss: 18968134352.7798\n",
            "Epoch 232/400\n",
            "15129/15129 [==============================] - 0s 14us/step - loss: 18979402525.1890 - val_loss: 18597033704.1530\n",
            "Epoch 233/400\n",
            "15129/15129 [==============================] - 0s 15us/step - loss: 18894635548.1229 - val_loss: 18626355133.0389\n",
            "Epoch 234/400\n",
            "15129/15129 [==============================] - 0s 14us/step - loss: 18947729315.1029 - val_loss: 18593728654.1345\n",
            "Epoch 235/400\n",
            "15129/15129 [==============================] - 0s 14us/step - loss: 18817671183.4321 - val_loss: 18470510977.3424\n",
            "Epoch 236/400\n",
            "15129/15129 [==============================] - 0s 14us/step - loss: 18780036548.6068 - val_loss: 18895657874.0827\n",
            "Epoch 237/400\n",
            "15129/15129 [==============================] - 0s 15us/step - loss: 18728141841.4626 - val_loss: 18379861358.7070\n",
            "Epoch 238/400\n",
            "15129/15129 [==============================] - 0s 14us/step - loss: 18717055054.9879 - val_loss: 18367324122.4133\n",
            "Epoch 239/400\n",
            "15129/15129 [==============================] - 0s 14us/step - loss: 18701944434.0147 - val_loss: 18332733677.8384\n",
            "Epoch 240/400\n",
            "15129/15129 [==============================] - 0s 14us/step - loss: 18577672824.3093 - val_loss: 18232590209.6582\n",
            "Epoch 241/400\n",
            "15129/15129 [==============================] - 0s 14us/step - loss: 18592111867.7866 - val_loss: 18271616708.1456\n",
            "Epoch 242/400\n",
            "15129/15129 [==============================] - 0s 14us/step - loss: 18495812108.1832 - val_loss: 18314388762.6897\n",
            "Epoch 243/400\n",
            "15129/15129 [==============================] - 0s 14us/step - loss: 18490602903.6304 - val_loss: 18286276427.3313\n",
            "Epoch 244/400\n",
            "15129/15129 [==============================] - 0s 14us/step - loss: 18479990107.8311 - val_loss: 18151595463.1462\n",
            "Epoch 245/400\n",
            "15129/15129 [==============================] - 0s 15us/step - loss: 18387875973.2033 - val_loss: 18126659758.3516\n",
            "Epoch 246/400\n",
            "15129/15129 [==============================] - 0s 14us/step - loss: 18360682846.4708 - val_loss: 18048472029.2560\n",
            "Epoch 247/400\n",
            "15129/15129 [==============================] - 0s 15us/step - loss: 18379159504.8408 - val_loss: 18336444449.4806\n",
            "Epoch 248/400\n",
            "15129/15129 [==============================] - 0s 14us/step - loss: 18342737900.5068 - val_loss: 18021275786.6601\n",
            "Epoch 249/400\n",
            "15129/15129 [==============================] - 0s 15us/step - loss: 18265011894.0377 - val_loss: 17936648238.1147\n",
            "Epoch 250/400\n",
            "15129/15129 [==============================] - 0s 14us/step - loss: 18220040235.4535 - val_loss: 18127003241.8112\n",
            "Epoch 251/400\n",
            "15129/15129 [==============================] - 0s 14us/step - loss: 18284316202.2352 - val_loss: 17846144018.3196\n",
            "Epoch 252/400\n",
            "15129/15129 [==============================] - 0s 14us/step - loss: 18160674290.2939 - val_loss: 18109852770.8624\n",
            "Epoch 253/400\n",
            "15129/15129 [==============================] - 0s 14us/step - loss: 18199317159.4178 - val_loss: 18147363542.4651\n",
            "Epoch 254/400\n",
            "15129/15129 [==============================] - 0s 15us/step - loss: 18081004047.0767 - val_loss: 17856180891.0845\n",
            "Epoch 255/400\n",
            "15129/15129 [==============================] - 0s 14us/step - loss: 18063547174.9356 - val_loss: 17721995541.9519\n",
            "Epoch 256/400\n",
            "15129/15129 [==============================] - 0s 14us/step - loss: 18053417751.9096 - val_loss: 17873291431.7187\n",
            "Epoch 257/400\n",
            "15129/15129 [==============================] - 0s 15us/step - loss: 18027020540.5989 - val_loss: 17712072375.8273\n",
            "Epoch 258/400\n",
            "15129/15129 [==============================] - 0s 14us/step - loss: 18044953755.7422 - val_loss: 17718970380.3183\n",
            "Epoch 259/400\n",
            "15129/15129 [==============================] - 0s 14us/step - loss: 17932070780.4212 - val_loss: 17704389127.2647\n",
            "Epoch 260/400\n",
            "15129/15129 [==============================] - 0s 14us/step - loss: 17891754008.9248 - val_loss: 18148854278.0012\n",
            "Epoch 261/400\n",
            "15129/15129 [==============================] - 0s 15us/step - loss: 17926669516.8812 - val_loss: 17563164269.6015\n",
            "Epoch 262/400\n",
            "15129/15129 [==============================] - 0s 14us/step - loss: 17814954482.9030 - val_loss: 17539079455.1117\n",
            "Epoch 263/400\n",
            "15129/15129 [==============================] - 0s 14us/step - loss: 17763590736.9169 - val_loss: 17586654569.9692\n",
            "Epoch 264/400\n",
            "15129/15129 [==============================] - 0s 14us/step - loss: 17786175070.9276 - val_loss: 17468260906.6403\n",
            "Epoch 265/400\n",
            "15129/15129 [==============================] - 0s 13us/step - loss: 17769426312.0968 - val_loss: 17647927712.9278\n",
            "Epoch 266/400\n",
            "15129/15129 [==============================] - 0s 14us/step - loss: 17758057006.8039 - val_loss: 17712239311.5163\n",
            "Epoch 267/400\n",
            "15129/15129 [==============================] - 0s 14us/step - loss: 17707981379.5154 - val_loss: 17454555695.0623\n",
            "Epoch 268/400\n",
            "15129/15129 [==============================] - 0s 14us/step - loss: 17623996457.2199 - val_loss: 17423147991.8865\n",
            "Epoch 269/400\n",
            "15129/15129 [==============================] - 0s 13us/step - loss: 17616425410.7793 - val_loss: 17418325186.5663\n",
            "Epoch 270/400\n",
            "15129/15129 [==============================] - 0s 14us/step - loss: 17562677362.9284 - val_loss: 17537553297.4510\n",
            "Epoch 271/400\n",
            "15129/15129 [==============================] - 0s 13us/step - loss: 17626365550.4612 - val_loss: 17449400500.0370\n",
            "Epoch 272/400\n",
            "15129/15129 [==============================] - 0s 13us/step - loss: 17614631178.7111 - val_loss: 17304417106.2801\n",
            "Epoch 273/400\n",
            "15129/15129 [==============================] - 0s 14us/step - loss: 17462709413.4888 - val_loss: 17440838571.9827\n",
            "Epoch 274/400\n",
            "15129/15129 [==============================] - 0s 13us/step - loss: 17519220961.1866 - val_loss: 17409903718.9685\n",
            "Epoch 275/400\n",
            "15129/15129 [==============================] - 0s 14us/step - loss: 17397102777.1850 - val_loss: 17247495424.4738\n",
            "Epoch 276/400\n",
            "15129/15129 [==============================] - 0s 13us/step - loss: 17426420307.3536 - val_loss: 17148119187.5040\n",
            "Epoch 277/400\n",
            "15129/15129 [==============================] - 0s 13us/step - loss: 17597532408.3347 - val_loss: 17385768534.8600\n",
            "Epoch 278/400\n",
            "15129/15129 [==============================] - 0s 14us/step - loss: 17405725019.2219 - val_loss: 17248963631.3782\n",
            "Epoch 279/400\n",
            "15129/15129 [==============================] - 0s 13us/step - loss: 17474547639.9159 - val_loss: 17112572604.8809\n",
            "Epoch 280/400\n",
            "15129/15129 [==============================] - 0s 14us/step - loss: 17352913211.7486 - val_loss: 17200382557.8088\n",
            "Epoch 281/400\n",
            "15129/15129 [==============================] - 0s 13us/step - loss: 17352856888.0936 - val_loss: 17096480064.9081\n",
            "Epoch 282/400\n",
            "15129/15129 [==============================] - 0s 14us/step - loss: 17278012397.8267 - val_loss: 17028711495.3831\n",
            "Epoch 283/400\n",
            "15129/15129 [==============================] - 0s 14us/step - loss: 17228643895.5352 - val_loss: 17094685609.4559\n",
            "Epoch 284/400\n",
            "15129/15129 [==============================] - 0s 14us/step - loss: 17326271715.2171 - val_loss: 17047070547.8593\n",
            "Epoch 285/400\n",
            "15129/15129 [==============================] - 0s 13us/step - loss: 17175735366.6627 - val_loss: 17353009009.8655\n",
            "Epoch 286/400\n",
            "15129/15129 [==============================] - 0s 14us/step - loss: 17249555684.5370 - val_loss: 16966903095.4324\n",
            "Epoch 287/400\n",
            "15129/15129 [==============================] - 0s 14us/step - loss: 17171364492.6147 - val_loss: 16972878779.4596\n",
            "Epoch 288/400\n",
            "15129/15129 [==============================] - 0s 14us/step - loss: 17170377535.9112 - val_loss: 16895185148.0518\n",
            "Epoch 289/400\n",
            "15129/15129 [==============================] - 0s 14us/step - loss: 17118244205.4967 - val_loss: 16953949377.9346\n",
            "Epoch 290/400\n",
            "15129/15129 [==============================] - 0s 14us/step - loss: 17099485114.9617 - val_loss: 16985236200.1530\n",
            "Epoch 291/400\n",
            "15129/15129 [==============================] - 0s 14us/step - loss: 16988135333.3365 - val_loss: 17461494717.0389\n",
            "Epoch 292/400\n",
            "15129/15129 [==============================] - 0s 14us/step - loss: 17091273559.6685 - val_loss: 16856772351.8421\n",
            "Epoch 293/400\n",
            "15129/15129 [==============================] - 0s 14us/step - loss: 17069458890.2923 - val_loss: 16822686223.1610\n",
            "Epoch 294/400\n",
            "15129/15129 [==============================] - 0s 13us/step - loss: 17006939389.4111 - val_loss: 16859336071.3436\n",
            "Epoch 295/400\n",
            "15129/15129 [==============================] - 0s 13us/step - loss: 17031347772.8146 - val_loss: 17086190468.1851\n",
            "Epoch 296/400\n",
            "15129/15129 [==============================] - 0s 13us/step - loss: 16999553657.6292 - val_loss: 16883120874.0481\n",
            "Epoch 297/400\n",
            "15129/15129 [==============================] - 0s 14us/step - loss: 16925806652.5100 - val_loss: 16732628465.4707\n",
            "Epoch 298/400\n",
            "15129/15129 [==============================] - 0s 14us/step - loss: 16949601379.6994 - val_loss: 16769251532.6737\n",
            "Epoch 299/400\n",
            "15129/15129 [==============================] - 0s 13us/step - loss: 16983059674.4858 - val_loss: 16799718266.7094\n",
            "Epoch 300/400\n",
            "15129/15129 [==============================] - 0s 14us/step - loss: 16986563534.3534 - val_loss: 16766310179.8495\n",
            "Epoch 301/400\n",
            "15129/15129 [==============================] - 0s 13us/step - loss: 16825099234.1511 - val_loss: 16762922139.0845\n",
            "Epoch 302/400\n",
            "15129/15129 [==============================] - 0s 14us/step - loss: 16831555635.5756 - val_loss: 16912359912.6268\n",
            "Epoch 303/400\n",
            "15129/15129 [==============================] - 0s 13us/step - loss: 16891426796.7099 - val_loss: 16823575072.5330\n",
            "Epoch 304/400\n",
            "15129/15129 [==============================] - 0s 13us/step - loss: 16862642726.2756 - val_loss: 16794075467.3313\n",
            "Epoch 305/400\n",
            "15129/15129 [==============================] - 0s 14us/step - loss: 16815850661.8949 - val_loss: 16869088359.9161\n",
            "Epoch 306/400\n",
            "15129/15129 [==============================] - 0s 14us/step - loss: 16736266252.9954 - val_loss: 17237985619.2276\n",
            "Epoch 307/400\n",
            "15129/15129 [==============================] - 0s 15us/step - loss: 16804474219.8723 - val_loss: 16645942781.4732\n",
            "Epoch 308/400\n",
            "15129/15129 [==============================] - 0s 13us/step - loss: 16758087302.9292 - val_loss: 16638605931.0746\n",
            "Epoch 309/400\n",
            "15129/15129 [==============================] - 0s 14us/step - loss: 16763490662.1360 - val_loss: 16625179760.1283\n",
            "Epoch 310/400\n",
            "15129/15129 [==============================] - 0s 14us/step - loss: 16763171366.1741 - val_loss: 17056944426.1666\n",
            "Epoch 311/400\n",
            "15129/15129 [==============================] - 0s 14us/step - loss: 16724955780.0865 - val_loss: 16760571394.5268\n",
            "Epoch 312/400\n",
            "15129/15129 [==============================] - 0s 14us/step - loss: 16704215173.3048 - val_loss: 16594484036.3825\n",
            "Epoch 313/400\n",
            "15129/15129 [==============================] - 0s 13us/step - loss: 16601046411.7517 - val_loss: 16783489054.3220\n",
            "Epoch 314/400\n",
            "15129/15129 [==============================] - 0s 14us/step - loss: 16668053182.7690 - val_loss: 16615763238.6922\n",
            "Epoch 315/400\n",
            "15129/15129 [==============================] - 0s 14us/step - loss: 16604345937.5261 - val_loss: 16903596389.5472\n",
            "Epoch 316/400\n",
            "15129/15129 [==============================] - 0s 13us/step - loss: 16608572892.7702 - val_loss: 16682046854.7119\n",
            "Epoch 317/400\n",
            "15129/15129 [==============================] - 0s 14us/step - loss: 16545039406.0932 - val_loss: 16593704519.6990\n",
            "Epoch 318/400\n",
            "15129/15129 [==============================] - 0s 14us/step - loss: 16561052049.6403 - val_loss: 16698861950.8155\n",
            "Epoch 319/400\n",
            "15129/15129 [==============================] - 0s 14us/step - loss: 16635905322.2859 - val_loss: 16634989184.2369\n",
            "Epoch 320/400\n",
            "15129/15129 [==============================] - 0s 13us/step - loss: 16549261325.1985 - val_loss: 16574182653.9469\n",
            "Epoch 321/400\n",
            "15129/15129 [==============================] - 0s 14us/step - loss: 16520665046.4247 - val_loss: 16639941596.9402\n",
            "Epoch 322/400\n",
            "15129/15129 [==============================] - 0s 14us/step - loss: 16581408417.6308 - val_loss: 16545094342.0407\n",
            "Epoch 323/400\n",
            "15129/15129 [==============================] - 0s 14us/step - loss: 16431792468.0135 - val_loss: 16528624241.8655\n",
            "Epoch 324/400\n",
            "15129/15129 [==============================] - 0s 14us/step - loss: 16441000569.5277 - val_loss: 16433591755.8840\n",
            "Epoch 325/400\n",
            "15129/15129 [==============================] - 0s 13us/step - loss: 16492397084.2245 - val_loss: 16529504221.2560\n",
            "Epoch 326/400\n",
            "15129/15129 [==============================] - 0s 14us/step - loss: 16468770102.2153 - val_loss: 16815216384.7896\n",
            "Epoch 327/400\n",
            "15129/15129 [==============================] - 0s 13us/step - loss: 16461204551.2719 - val_loss: 16576123491.1783\n",
            "Epoch 328/400\n",
            "15129/15129 [==============================] - 0s 14us/step - loss: 16455830131.0299 - val_loss: 16452364415.4473\n",
            "Epoch 329/400\n",
            "15129/15129 [==============================] - 0s 13us/step - loss: 16457162623.8731 - val_loss: 16469513961.4164\n",
            "Epoch 330/400\n",
            "15129/15129 [==============================] - 0s 13us/step - loss: 16431321771.4789 - val_loss: 16445655779.4152\n",
            "Epoch 331/400\n",
            "15129/15129 [==============================] - 0s 14us/step - loss: 16331050631.5891 - val_loss: 16695777615.7532\n",
            "Epoch 332/400\n",
            "15129/15129 [==============================] - 0s 13us/step - loss: 16369685680.9613 - val_loss: 16503523528.2517\n",
            "Epoch 333/400\n",
            "15129/15129 [==============================] - 0s 13us/step - loss: 16362464789.0161 - val_loss: 16640314988.9698\n",
            "Epoch 334/400\n",
            "15129/15129 [==============================] - 0s 14us/step - loss: 16363768571.6851 - val_loss: 16521406775.4324\n",
            "Epoch 335/400\n",
            "15129/15129 [==============================] - 0s 15us/step - loss: 16284037812.8194 - val_loss: 16396106243.0006\n",
            "Epoch 336/400\n",
            "15129/15129 [==============================] - 0s 14us/step - loss: 16378610680.0809 - val_loss: 16379079280.7600\n",
            "Epoch 337/400\n",
            "15129/15129 [==============================] - 0s 13us/step - loss: 16269524141.6109 - val_loss: 16373730099.0105\n",
            "Epoch 338/400\n",
            "15129/15129 [==============================] - 0s 13us/step - loss: 16215774421.4095 - val_loss: 16768059445.0635\n",
            "Epoch 339/400\n",
            "15129/15129 [==============================] - 0s 14us/step - loss: 16198287016.0270 - val_loss: 16455893372.1308\n",
            "Epoch 340/400\n",
            "15129/15129 [==============================] - 0s 13us/step - loss: 16320798989.1477 - val_loss: 16446772532.5898\n",
            "Epoch 341/400\n",
            "15129/15129 [==============================] - 0s 13us/step - loss: 16169477860.3339 - val_loss: 16380389368.7353\n",
            "Epoch 342/400\n",
            "15129/15129 [==============================] - 0s 13us/step - loss: 16150250339.2425 - val_loss: 16732272363.1536\n",
            "Epoch 343/400\n",
            "15129/15129 [==============================] - 0s 14us/step - loss: 16167373490.3827 - val_loss: 16334622924.1999\n",
            "Epoch 344/400\n",
            "15129/15129 [==============================] - 0s 13us/step - loss: 16259849543.7287 - val_loss: 16406130469.7446\n",
            "Epoch 345/400\n",
            "15129/15129 [==============================] - 0s 14us/step - loss: 16121859406.4295 - val_loss: 16646398336.8686\n",
            "Epoch 346/400\n",
            "15129/15129 [==============================] - 0s 14us/step - loss: 16625316104.8836 - val_loss: 16375512163.8100\n",
            "Epoch 347/400\n",
            "15129/15129 [==============================] - 0s 14us/step - loss: 16101353089.6498 - val_loss: 16357788330.2455\n",
            "Epoch 348/400\n",
            "15129/15129 [==============================] - 0s 13us/step - loss: 16029981786.5620 - val_loss: 16444339190.9981\n",
            "Epoch 349/400\n",
            "15129/15129 [==============================] - 0s 13us/step - loss: 16078870472.9724 - val_loss: 16368673219.1980\n",
            "Epoch 350/400\n",
            "15129/15129 [==============================] - 0s 13us/step - loss: 16000610637.8203 - val_loss: 16336798389.3004\n",
            "Epoch 351/400\n",
            "15129/15129 [==============================] - 0s 14us/step - loss: 16033032238.6008 - val_loss: 16313504937.6138\n",
            "Epoch 352/400\n",
            "15129/15129 [==============================] - 0s 13us/step - loss: 15967924246.5390 - val_loss: 16361830098.2011\n",
            "Epoch 353/400\n",
            "15129/15129 [==============================] - 0s 13us/step - loss: 16021620609.7006 - val_loss: 16400247785.5743\n",
            "Epoch 354/400\n",
            "15129/15129 [==============================] - 0s 14us/step - loss: 16004338820.6449 - val_loss: 16345570577.8458\n",
            "Epoch 355/400\n",
            "15129/15129 [==============================] - 0s 13us/step - loss: 16060806524.3197 - val_loss: 16378185735.4226\n",
            "Epoch 356/400\n",
            "15129/15129 [==============================] - 0s 14us/step - loss: 16115011481.7624 - val_loss: 16654455259.6767\n",
            "Epoch 357/400\n",
            "15129/15129 [==============================] - 0s 13us/step - loss: 15926494192.5679 - val_loss: 16398273482.6206\n",
            "Epoch 358/400\n",
            "15129/15129 [==============================] - 0s 13us/step - loss: 15887782198.2661 - val_loss: 16362736649.9494\n",
            "Epoch 359/400\n",
            "15129/15129 [==============================] - 0s 13us/step - loss: 15930021714.1860 - val_loss: 16396443169.6385\n",
            "Epoch 360/400\n",
            "15129/15129 [==============================] - 0s 13us/step - loss: 15962908629.5618 - val_loss: 16281534223.6348\n",
            "Epoch 361/400\n",
            "15129/15129 [==============================] - 0s 14us/step - loss: 16001887623.8937 - val_loss: 16343301154.1123\n",
            "Epoch 362/400\n",
            "15129/15129 [==============================] - 0s 14us/step - loss: 15819616884.5528 - val_loss: 16319737075.8396\n",
            "Epoch 363/400\n",
            "15129/15129 [==============================] - 0s 13us/step - loss: 15811595535.4321 - val_loss: 16336208330.3048\n",
            "Epoch 364/400\n",
            "15129/15129 [==============================] - 0s 14us/step - loss: 15903602136.9122 - val_loss: 16232275540.9648\n",
            "Epoch 365/400\n",
            "15129/15129 [==============================] - 0s 13us/step - loss: 15868598308.8543 - val_loss: 16370226437.5275\n",
            "Epoch 366/400\n",
            "15129/15129 [==============================] - 0s 14us/step - loss: 15810440467.2393 - val_loss: 16363877724.7033\n",
            "Epoch 367/400\n",
            "15129/15129 [==============================] - 0s 13us/step - loss: 15767390915.8453 - val_loss: 16345176159.0722\n",
            "Epoch 368/400\n",
            "15129/15129 [==============================] - 0s 14us/step - loss: 15886470115.7755 - val_loss: 16171224608.5330\n",
            "Epoch 369/400\n",
            "15129/15129 [==============================] - 0s 13us/step - loss: 15766712447.9239 - val_loss: 16249368281.6237\n",
            "Epoch 370/400\n",
            "15129/15129 [==============================] - 0s 14us/step - loss: 15716029276.0341 - val_loss: 16408644482.2899\n",
            "Epoch 371/400\n",
            "15129/15129 [==============================] - 0s 14us/step - loss: 15769775363.0966 - val_loss: 16263340847.2202\n",
            "Epoch 372/400\n",
            "15129/15129 [==============================] - 0s 13us/step - loss: 15743182877.4428 - val_loss: 16177458697.4756\n",
            "Epoch 373/400\n",
            "15129/15129 [==============================] - 0s 13us/step - loss: 15704302447.6288 - val_loss: 16314966018.8427\n",
            "Epoch 374/400\n",
            "15129/15129 [==============================] - 0s 14us/step - loss: 15713030604.8305 - val_loss: 16230264279.8865\n",
            "Epoch 375/400\n",
            "15129/15129 [==============================] - 0s 13us/step - loss: 15701984136.8075 - val_loss: 16432813636.5404\n",
            "Epoch 376/400\n",
            "15129/15129 [==============================] - 0s 14us/step - loss: 15703185459.5756 - val_loss: 16286670846.1049\n",
            "Epoch 377/400\n",
            "15129/15129 [==============================] - 0s 13us/step - loss: 15649602949.8632 - val_loss: 16195903149.4041\n",
            "Epoch 378/400\n",
            "15129/15129 [==============================] - 0s 13us/step - loss: 15659252530.7127 - val_loss: 16169068276.1555\n",
            "Epoch 379/400\n",
            "15129/15129 [==============================] - 0s 13us/step - loss: 15647001675.0284 - val_loss: 16343695811.0401\n",
            "Epoch 380/400\n",
            "15129/15129 [==============================] - 0s 14us/step - loss: 15606415606.5072 - val_loss: 16166754422.7613\n",
            "Epoch 381/400\n",
            "15129/15129 [==============================] - 0s 13us/step - loss: 15558978175.4162 - val_loss: 16338138872.1036\n",
            "Epoch 382/400\n",
            "15129/15129 [==============================] - 0s 13us/step - loss: 15555314537.8418 - val_loss: 16237027523.1980\n",
            "Epoch 383/400\n",
            "15129/15129 [==============================] - 0s 13us/step - loss: 15575344196.0230 - val_loss: 16101487821.1474\n",
            "Epoch 384/400\n",
            "15129/15129 [==============================] - 0s 13us/step - loss: 15566672809.7022 - val_loss: 16199850338.0728\n",
            "Epoch 385/400\n",
            "15129/15129 [==============================] - 0s 13us/step - loss: 15486008058.4668 - val_loss: 16225438505.3769\n",
            "Epoch 386/400\n",
            "15129/15129 [==============================] - 0s 15us/step - loss: 15509033623.4273 - val_loss: 16127831640.7551\n",
            "Epoch 387/400\n",
            "15129/15129 [==============================] - 0s 13us/step - loss: 15468611494.2502 - val_loss: 16564881538.0531\n",
            "Epoch 388/400\n",
            "15129/15129 [==============================] - 0s 13us/step - loss: 15521356717.3571 - val_loss: 16136598559.1117\n",
            "Epoch 389/400\n",
            "15129/15129 [==============================] - 0s 14us/step - loss: 15473720532.1912 - val_loss: 16152752430.5885\n",
            "Epoch 390/400\n",
            "15129/15129 [==============================] - 0s 13us/step - loss: 15465725610.6667 - val_loss: 16191986422.5244\n",
            "Epoch 391/400\n",
            "15129/15129 [==============================] - 0s 14us/step - loss: 15473020209.4943 - val_loss: 16095648066.1715\n",
            "Epoch 392/400\n",
            "15129/15129 [==============================] - 0s 13us/step - loss: 15471399269.1715 - val_loss: 16063338546.6946\n",
            "Epoch 393/400\n",
            "15129/15129 [==============================] - 0s 14us/step - loss: 15387047927.8779 - val_loss: 16249091284.5700\n",
            "Epoch 394/400\n",
            "15129/15129 [==============================] - 0s 13us/step - loss: 15485629142.9324 - val_loss: 16197329103.2005\n",
            "Epoch 395/400\n",
            "15129/15129 [==============================] - 0s 14us/step - loss: 15451432636.7384 - val_loss: 16261030350.0950\n",
            "Epoch 396/400\n",
            "15129/15129 [==============================] - 0s 14us/step - loss: 15354926412.4497 - val_loss: 16130710895.9704\n",
            "Epoch 397/400\n",
            "15129/15129 [==============================] - 0s 13us/step - loss: 15352304606.2931 - val_loss: 16219084169.7125\n",
            "Epoch 398/400\n",
            "15129/15129 [==============================] - 0s 14us/step - loss: 15381335982.3724 - val_loss: 16086860928.0790\n",
            "Epoch 399/400\n",
            "15129/15129 [==============================] - 0s 13us/step - loss: 15360182522.3653 - val_loss: 16096731558.2973\n",
            "Epoch 400/400\n",
            "15129/15129 [==============================] - 0s 14us/step - loss: 15352549528.4426 - val_loss: 16313942498.9414\n"
          ],
          "name": "stdout"
        },
        {
          "output_type": "execute_result",
          "data": {
            "text/plain": [
              "<keras.callbacks.callbacks.History at 0x7fc1b14a49e8>"
            ]
          },
          "metadata": {
            "tags": []
          },
          "execution_count": 47
        }
      ]
    },
    {
      "cell_type": "markdown",
      "metadata": {
        "id": "43X-ODN5x26t",
        "colab_type": "text"
      },
      "source": [
        "## EVALUATING MODEL "
      ]
    },
    {
      "cell_type": "code",
      "metadata": {
        "id": "CPJhGoJiOP4h",
        "colab_type": "code",
        "colab": {}
      },
      "source": [
        "loss=pd.DataFrame(model.history.history)"
      ],
      "execution_count": 48,
      "outputs": []
    },
    {
      "cell_type": "code",
      "metadata": {
        "id": "Jl_X67A_O-hF",
        "colab_type": "code",
        "colab": {
          "base_uri": "https://localhost:8080/",
          "height": 310
        },
        "outputId": "e1115ce3-710a-496a-ae93-3cef8adce653"
      },
      "source": [
        "plt.figure(figsize=(10,9))\n",
        "loss.plot()\n"
      ],
      "execution_count": 49,
      "outputs": [
        {
          "output_type": "execute_result",
          "data": {
            "text/plain": [
              "<matplotlib.axes._subplots.AxesSubplot at 0x7fc1a9ff6630>"
            ]
          },
          "metadata": {
            "tags": []
          },
          "execution_count": 49
        },
        {
          "output_type": "display_data",
          "data": {
            "text/plain": [
              "<Figure size 720x648 with 0 Axes>"
            ]
          },
          "metadata": {
            "tags": []
          }
        },
        {
          "output_type": "display_data",
          "data": {
            "image/png": "[encoded data removed]",
            "text/plain": [
              "<Figure size 432x288 with 1 Axes>"
            ]
          },
          "metadata": {
            "tags": [],
            "needs_background": "light"
          }
        }
      ]
    },
    {
      "cell_type": "code",
      "metadata": {
        "id": "xDb0sz_XPI9D",
        "colab_type": "code",
        "colab": {
          "base_uri": "https://localhost:8080/",
          "height": 50
        },
        "outputId": "95972bd4-4427-496e-e74c-610a9e24aac6"
      },
      "source": [
        "(model.evaluate(X_test,y_test)**0.5)/5.400881e+05\n",
        "\n",
        "# df[\"price\"].describe()\n"
      ],
      "execution_count": 103,
      "outputs": [
        {
          "output_type": "stream",
          "text": [
            "6484/6484 [==============================] - 0s 17us/step\n"
          ],
          "name": "stdout"
        },
        {
          "output_type": "execute_result",
          "data": {
            "text/plain": [
              "0.23649113025259627"
            ]
          },
          "metadata": {
            "tags": []
          },
          "execution_count": 103
        }
      ]
    },
    {
      "cell_type": "code",
      "metadata": {
        "id": "cZmUMCa8PbZT",
        "colab_type": "code",
        "colab": {
          "base_uri": "https://localhost:8080/",
          "height": 50
        },
        "outputId": "b5e4958e-543e-485f-94ab-39f3d203b296"
      },
      "source": [
        "((model.evaluate(X_train,y_train))**0.5)/5.400881e+05\n",
        "\n"
      ],
      "execution_count": 101,
      "outputs": [
        {
          "output_type": "stream",
          "text": [
            "15129/15129 [==============================] - 0s 16us/step\n"
          ],
          "name": "stdout"
        },
        {
          "output_type": "execute_result",
          "data": {
            "text/plain": [
              "0.2292682442293301"
            ]
          },
          "metadata": {
            "tags": []
          },
          "execution_count": 101
        }
      ]
    },
    {
      "cell_type": "code",
      "metadata": {
        "id": "jWF6WC_uPg-S",
        "colab_type": "code",
        "colab": {}
      },
      "source": [
        "from sklearn.metrics import mean_absolute_error,mean_squared_error,explained_variance_score"
      ],
      "execution_count": 52,
      "outputs": []
    },
    {
      "cell_type": "code",
      "metadata": {
        "id": "ma_nYx7EPv1V",
        "colab_type": "code",
        "colab": {}
      },
      "source": [
        "model_predictions=model.predict(X_test)"
      ],
      "execution_count": 53,
      "outputs": []
    },
    {
      "cell_type": "code",
      "metadata": {
        "id": "rrkLbXm9QF-q",
        "colab_type": "code",
        "colab": {
          "base_uri": "https://localhost:8080/",
          "height": 34
        },
        "outputId": "ec8c2893-547a-44d8-aeac-7928b324add9"
      },
      "source": [
        "mean_squared_error(y_test,model_predictions)**0.5"
      ],
      "execution_count": 54,
      "outputs": [
        {
          "output_type": "execute_result",
          "data": {
            "text/plain": [
              "127726.04539774108"
            ]
          },
          "metadata": {
            "tags": []
          },
          "execution_count": 54
        }
      ]
    },
    {
      "cell_type": "code",
      "metadata": {
        "id": "lgTli2yGQW2I",
        "colab_type": "code",
        "colab": {
          "base_uri": "https://localhost:8080/",
          "height": 168
        },
        "outputId": "cbd2079a-8650-4620-fa2b-484d1fab0ba6"
      },
      "source": [
        "df[\"price\"].describe()"
      ],
      "execution_count": 55,
      "outputs": [
        {
          "output_type": "execute_result",
          "data": {
            "text/plain": [
              "count    2.161300e+04\n",
              "mean     5.400881e+05\n",
              "std      3.671272e+05\n",
              "min      7.500000e+04\n",
              "25%      3.219500e+05\n",
              "50%      4.500000e+05\n",
              "75%      6.450000e+05\n",
              "max      7.700000e+06\n",
              "Name: price, dtype: float64"
            ]
          },
          "metadata": {
            "tags": []
          },
          "execution_count": 55
        }
      ]
    },
    {
      "cell_type": "code",
      "metadata": {
        "id": "Q1fr-DceQyN8",
        "colab_type": "code",
        "colab": {
          "base_uri": "https://localhost:8080/",
          "height": 34
        },
        "outputId": "54285a55-6590-42b3-e976-047864a4f0ed"
      },
      "source": [
        "5.400881e+05\n"
      ],
      "execution_count": 56,
      "outputs": [
        {
          "output_type": "execute_result",
          "data": {
            "text/plain": [
              "540088.1"
            ]
          },
          "metadata": {
            "tags": []
          },
          "execution_count": 56
        }
      ]
    },
    {
      "cell_type": "code",
      "metadata": {
        "id": "KvqbWbHqQ2wq",
        "colab_type": "code",
        "colab": {
          "base_uri": "https://localhost:8080/",
          "height": 34
        },
        "outputId": "90e6610c-9f5e-4c76-c96d-751eb0998f89"
      },
      "source": [
        "(540088.1-129383.3796378397)/(540088.1)"
      ],
      "execution_count": 57,
      "outputs": [
        {
          "output_type": "execute_result",
          "data": {
            "text/plain": [
              "0.7604402325512455"
            ]
          },
          "metadata": {
            "tags": []
          },
          "execution_count": 57
        }
      ]
    },
    {
      "cell_type": "code",
      "metadata": {
        "id": "9pGv21emRFCr",
        "colab_type": "code",
        "colab": {
          "base_uri": "https://localhost:8080/",
          "height": 134
        },
        "outputId": "3da47cef-d971-4eb9-dca8-01dc0c4f7b99"
      },
      "source": [
        "new_one=X_train[0].reshape(18,)\n",
        "new_one.shape\n",
        "model.predict(X_train)"
      ],
      "execution_count": 58,
      "outputs": [
        {
          "output_type": "execute_result",
          "data": {
            "text/plain": [
              "array([[468165.72],\n",
              "       [438029.06],\n",
              "       [464463.03],\n",
              "       ...,\n",
              "       [278314.84],\n",
              "       [453996.75],\n",
              "       [308148.56]], dtype=float32)"
            ]
          },
          "metadata": {
            "tags": []
          },
          "execution_count": 58
        }
      ]
    },
    {
      "cell_type": "code",
      "metadata": {
        "id": "rJb8gk2cRPkZ",
        "colab_type": "code",
        "colab": {
          "base_uri": "https://localhost:8080/",
          "height": 633
        },
        "outputId": "9ff46f2b-5c5a-4126-dac1-57da88713b6d"
      },
      "source": [
        "plt.figure(figsize=(12,10))\n",
        "sns.scatterplot(y_train,model.predict(X_train).reshape(-1,))\n",
        "sns.lineplot(model.predict(X_train).reshape(-1,),model.predict(X_train).reshape(-1,),color=\"red\")\n"
      ],
      "execution_count": 59,
      "outputs": [
        {
          "output_type": "execute_result",
          "data": {
            "text/plain": [
              "<matplotlib.axes._subplots.AxesSubplot at 0x7fc1a9f24780>"
            ]
          },
          "metadata": {
            "tags": []
          },
          "execution_count": 59
        },
        {
          "output_type": "display_data",
          "data": {
            "image/png": "[encoded data removed]",
            "text/plain": [
              "<Figure size 864x720 with 1 Axes>"
            ]
          },
          "metadata": {
            "tags": [],
            "needs_background": "light"
          }
        }
      ]
    },
    {
      "cell_type": "code",
      "metadata": {
        "id": "Led0FJ7SR0Px",
        "colab_type": "code",
        "colab": {
          "base_uri": "https://localhost:8080/",
          "height": 590
        },
        "outputId": "da48db4b-0312-48cc-c665-65ad38a49c35"
      },
      "source": [
        "df"
      ],
      "execution_count": 60,
      "outputs": [
        {
          "output_type": "execute_result",
          "data": {
            "text/html": [
              "<div>\n",
              "<style scoped>\n",
              "    .dataframe tbody tr th:only-of-type {\n",
              "        vertical-align: middle;\n",
              "    }\n",
              "\n",
              "    .dataframe tbody tr th {\n",
              "        vertical-align: top;\n",
              "    }\n",
              "\n",
              "    .dataframe thead th {\n",
              "        text-align: right;\n",
              "    }\n",
              "</style>\n",
              "<table border=\"1\" class=\"dataframe\">\n",
              "  <thead>\n",
              "    <tr style=\"text-align: right;\">\n",
              "      <th></th>\n",
              "      <th>date</th>\n",
              "      <th>price</th>\n",
              "      <th>bedrooms</th>\n",
              "      <th>bathrooms</th>\n",
              "      <th>sqft_living</th>\n",
              "      <th>sqft_lot</th>\n",
              "      <th>floors</th>\n",
              "      <th>waterfront</th>\n",
              "      <th>view</th>\n",
              "      <th>condition</th>\n",
              "      <th>grade</th>\n",
              "      <th>sqft_above</th>\n",
              "      <th>sqft_basement</th>\n",
              "      <th>yr_built</th>\n",
              "      <th>zipcode</th>\n",
              "      <th>lat</th>\n",
              "      <th>long</th>\n",
              "      <th>sqft_living15</th>\n",
              "      <th>sqft_lot15</th>\n",
              "      <th>month</th>\n",
              "      <th>year</th>\n",
              "    </tr>\n",
              "  </thead>\n",
              "  <tbody>\n",
              "    <tr>\n",
              "      <th>0</th>\n",
              "      <td>2014-10-13</td>\n",
              "      <td>221900.0</td>\n",
              "      <td>3</td>\n",
              "      <td>1.00</td>\n",
              "      <td>1180</td>\n",
              "      <td>5650</td>\n",
              "      <td>1.0</td>\n",
              "      <td>0</td>\n",
              "      <td>0</td>\n",
              "      <td>3</td>\n",
              "      <td>7</td>\n",
              "      <td>1180</td>\n",
              "      <td>0</td>\n",
              "      <td>1955</td>\n",
              "      <td>98178</td>\n",
              "      <td>47.5112</td>\n",
              "      <td>-122.257</td>\n",
              "      <td>1340</td>\n",
              "      <td>5650</td>\n",
              "      <td>10</td>\n",
              "      <td>2014</td>\n",
              "    </tr>\n",
              "    <tr>\n",
              "      <th>1</th>\n",
              "      <td>2014-12-09</td>\n",
              "      <td>538000.0</td>\n",
              "      <td>3</td>\n",
              "      <td>2.25</td>\n",
              "      <td>2570</td>\n",
              "      <td>7242</td>\n",
              "      <td>2.0</td>\n",
              "      <td>0</td>\n",
              "      <td>0</td>\n",
              "      <td>3</td>\n",
              "      <td>7</td>\n",
              "      <td>2170</td>\n",
              "      <td>400</td>\n",
              "      <td>1951</td>\n",
              "      <td>98125</td>\n",
              "      <td>47.7210</td>\n",
              "      <td>-122.319</td>\n",
              "      <td>1690</td>\n",
              "      <td>7639</td>\n",
              "      <td>12</td>\n",
              "      <td>2014</td>\n",
              "    </tr>\n",
              "    <tr>\n",
              "      <th>2</th>\n",
              "      <td>2015-02-25</td>\n",
              "      <td>180000.0</td>\n",
              "      <td>2</td>\n",
              "      <td>1.00</td>\n",
              "      <td>770</td>\n",
              "      <td>10000</td>\n",
              "      <td>1.0</td>\n",
              "      <td>0</td>\n",
              "      <td>0</td>\n",
              "      <td>3</td>\n",
              "      <td>6</td>\n",
              "      <td>770</td>\n",
              "      <td>0</td>\n",
              "      <td>1933</td>\n",
              "      <td>98028</td>\n",
              "      <td>47.7379</td>\n",
              "      <td>-122.233</td>\n",
              "      <td>2720</td>\n",
              "      <td>8062</td>\n",
              "      <td>2</td>\n",
              "      <td>2015</td>\n",
              "    </tr>\n",
              "    <tr>\n",
              "      <th>3</th>\n",
              "      <td>2014-12-09</td>\n",
              "      <td>604000.0</td>\n",
              "      <td>4</td>\n",
              "      <td>3.00</td>\n",
              "      <td>1960</td>\n",
              "      <td>5000</td>\n",
              "      <td>1.0</td>\n",
              "      <td>0</td>\n",
              "      <td>0</td>\n",
              "      <td>5</td>\n",
              "      <td>7</td>\n",
              "      <td>1050</td>\n",
              "      <td>910</td>\n",
              "      <td>1965</td>\n",
              "      <td>98136</td>\n",
              "      <td>47.5208</td>\n",
              "      <td>-122.393</td>\n",
              "      <td>1360</td>\n",
              "      <td>5000</td>\n",
              "      <td>12</td>\n",
              "      <td>2014</td>\n",
              "    </tr>\n",
              "    <tr>\n",
              "      <th>4</th>\n",
              "      <td>2015-02-18</td>\n",
              "      <td>510000.0</td>\n",
              "      <td>3</td>\n",
              "      <td>2.00</td>\n",
              "      <td>1680</td>\n",
              "      <td>8080</td>\n",
              "      <td>1.0</td>\n",
              "      <td>0</td>\n",
              "      <td>0</td>\n",
              "      <td>3</td>\n",
              "      <td>8</td>\n",
              "      <td>1680</td>\n",
              "      <td>0</td>\n",
              "      <td>1987</td>\n",
              "      <td>98074</td>\n",
              "      <td>47.6168</td>\n",
              "      <td>-122.045</td>\n",
              "      <td>1800</td>\n",
              "      <td>7503</td>\n",
              "      <td>2</td>\n",
              "      <td>2015</td>\n",
              "    </tr>\n",
              "    <tr>\n",
              "      <th>...</th>\n",
              "      <td>...</td>\n",
              "      <td>...</td>\n",
              "      <td>...</td>\n",
              "      <td>...</td>\n",
              "      <td>...</td>\n",
              "      <td>...</td>\n",
              "      <td>...</td>\n",
              "      <td>...</td>\n",
              "      <td>...</td>\n",
              "      <td>...</td>\n",
              "      <td>...</td>\n",
              "      <td>...</td>\n",
              "      <td>...</td>\n",
              "      <td>...</td>\n",
              "      <td>...</td>\n",
              "      <td>...</td>\n",
              "      <td>...</td>\n",
              "      <td>...</td>\n",
              "      <td>...</td>\n",
              "      <td>...</td>\n",
              "      <td>...</td>\n",
              "    </tr>\n",
              "    <tr>\n",
              "      <th>21608</th>\n",
              "      <td>2014-05-21</td>\n",
              "      <td>360000.0</td>\n",
              "      <td>3</td>\n",
              "      <td>2.50</td>\n",
              "      <td>1530</td>\n",
              "      <td>1131</td>\n",
              "      <td>3.0</td>\n",
              "      <td>0</td>\n",
              "      <td>0</td>\n",
              "      <td>3</td>\n",
              "      <td>8</td>\n",
              "      <td>1530</td>\n",
              "      <td>0</td>\n",
              "      <td>2009</td>\n",
              "      <td>98103</td>\n",
              "      <td>47.6993</td>\n",
              "      <td>-122.346</td>\n",
              "      <td>1530</td>\n",
              "      <td>1509</td>\n",
              "      <td>5</td>\n",
              "      <td>2014</td>\n",
              "    </tr>\n",
              "    <tr>\n",
              "      <th>21609</th>\n",
              "      <td>2015-02-23</td>\n",
              "      <td>400000.0</td>\n",
              "      <td>4</td>\n",
              "      <td>2.50</td>\n",
              "      <td>2310</td>\n",
              "      <td>5813</td>\n",
              "      <td>2.0</td>\n",
              "      <td>0</td>\n",
              "      <td>0</td>\n",
              "      <td>3</td>\n",
              "      <td>8</td>\n",
              "      <td>2310</td>\n",
              "      <td>0</td>\n",
              "      <td>2014</td>\n",
              "      <td>98146</td>\n",
              "      <td>47.5107</td>\n",
              "      <td>-122.362</td>\n",
              "      <td>1830</td>\n",
              "      <td>7200</td>\n",
              "      <td>2</td>\n",
              "      <td>2015</td>\n",
              "    </tr>\n",
              "    <tr>\n",
              "      <th>21610</th>\n",
              "      <td>2014-06-23</td>\n",
              "      <td>402101.0</td>\n",
              "      <td>2</td>\n",
              "      <td>0.75</td>\n",
              "      <td>1020</td>\n",
              "      <td>1350</td>\n",
              "      <td>2.0</td>\n",
              "      <td>0</td>\n",
              "      <td>0</td>\n",
              "      <td>3</td>\n",
              "      <td>7</td>\n",
              "      <td>1020</td>\n",
              "      <td>0</td>\n",
              "      <td>2009</td>\n",
              "      <td>98144</td>\n",
              "      <td>47.5944</td>\n",
              "      <td>-122.299</td>\n",
              "      <td>1020</td>\n",
              "      <td>2007</td>\n",
              "      <td>6</td>\n",
              "      <td>2014</td>\n",
              "    </tr>\n",
              "    <tr>\n",
              "      <th>21611</th>\n",
              "      <td>2015-01-16</td>\n",
              "      <td>400000.0</td>\n",
              "      <td>3</td>\n",
              "      <td>2.50</td>\n",
              "      <td>1600</td>\n",
              "      <td>2388</td>\n",
              "      <td>2.0</td>\n",
              "      <td>0</td>\n",
              "      <td>0</td>\n",
              "      <td>3</td>\n",
              "      <td>8</td>\n",
              "      <td>1600</td>\n",
              "      <td>0</td>\n",
              "      <td>2004</td>\n",
              "      <td>98027</td>\n",
              "      <td>47.5345</td>\n",
              "      <td>-122.069</td>\n",
              "      <td>1410</td>\n",
              "      <td>1287</td>\n",
              "      <td>1</td>\n",
              "      <td>2015</td>\n",
              "    </tr>\n",
              "    <tr>\n",
              "      <th>21612</th>\n",
              "      <td>2014-10-15</td>\n",
              "      <td>325000.0</td>\n",
              "      <td>2</td>\n",
              "      <td>0.75</td>\n",
              "      <td>1020</td>\n",
              "      <td>1076</td>\n",
              "      <td>2.0</td>\n",
              "      <td>0</td>\n",
              "      <td>0</td>\n",
              "      <td>3</td>\n",
              "      <td>7</td>\n",
              "      <td>1020</td>\n",
              "      <td>0</td>\n",
              "      <td>2008</td>\n",
              "      <td>98144</td>\n",
              "      <td>47.5941</td>\n",
              "      <td>-122.299</td>\n",
              "      <td>1020</td>\n",
              "      <td>1357</td>\n",
              "      <td>10</td>\n",
              "      <td>2014</td>\n",
              "    </tr>\n",
              "  </tbody>\n",
              "</table>\n",
              "<p>21613 rows × 21 columns</p>\n",
              "</div>"
            ],
            "text/plain": [
              "            date     price  bedrooms  ...  sqft_lot15  month  year\n",
              "0     2014-10-13  221900.0         3  ...        5650     10  2014\n",
              "1     2014-12-09  538000.0         3  ...        7639     12  2014\n",
              "2     2015-02-25  180000.0         2  ...        8062      2  2015\n",
              "3     2014-12-09  604000.0         4  ...        5000     12  2014\n",
              "4     2015-02-18  510000.0         3  ...        7503      2  2015\n",
              "...          ...       ...       ...  ...         ...    ...   ...\n",
              "21608 2014-05-21  360000.0         3  ...        1509      5  2014\n",
              "21609 2015-02-23  400000.0         4  ...        7200      2  2015\n",
              "21610 2014-06-23  402101.0         2  ...        2007      6  2014\n",
              "21611 2015-01-16  400000.0         3  ...        1287      1  2015\n",
              "21612 2014-10-15  325000.0         2  ...        1357     10  2014\n",
              "\n",
              "[21613 rows x 21 columns]"
            ]
          },
          "metadata": {
            "tags": []
          },
          "execution_count": 60
        }
      ]
    },
    {
      "cell_type": "markdown",
      "metadata": {
        "id": "3o3fx00tyAE-",
        "colab_type": "text"
      },
      "source": [
        "## PREDICTING THE NEW INPUT "
      ]
    },
    {
      "cell_type": "code",
      "metadata": {
        "id": "GCpribilV1-J",
        "colab_type": "code",
        "colab": {
          "base_uri": "https://localhost:8080/",
          "height": 386
        },
        "outputId": "d0f7d543-55f3-4bf3-e37c-9d984558ad37"
      },
      "source": [
        "df.iloc[0]"
      ],
      "execution_count": 61,
      "outputs": [
        {
          "output_type": "execute_result",
          "data": {
            "text/plain": [
              "date             2014-10-13 00:00:00\n",
              "price                         221900\n",
              "bedrooms                           3\n",
              "bathrooms                          1\n",
              "sqft_living                     1180\n",
              "sqft_lot                        5650\n",
              "floors                             1\n",
              "waterfront                         0\n",
              "view                               0\n",
              "condition                          3\n",
              "grade                              7\n",
              "sqft_above                      1180\n",
              "sqft_basement                      0\n",
              "yr_built                        1955\n",
              "zipcode                        98178\n",
              "lat                          47.5112\n",
              "long                        -122.257\n",
              "sqft_living15                   1340\n",
              "sqft_lot15                      5650\n",
              "month                             10\n",
              "year                            2014\n",
              "Name: 0, dtype: object"
            ]
          },
          "metadata": {
            "tags": []
          },
          "execution_count": 61
        }
      ]
    },
    {
      "cell_type": "code",
      "metadata": {
        "id": "M7mQUjOjV3-i",
        "colab_type": "code",
        "colab": {
          "base_uri": "https://localhost:8080/",
          "height": 422
        },
        "outputId": "94fa7543-2d6a-4cb7-f711-d68c7fdabc3f"
      },
      "source": [
        "X"
      ],
      "execution_count": 62,
      "outputs": [
        {
          "output_type": "execute_result",
          "data": {
            "text/html": [
              "<div>\n",
              "<style scoped>\n",
              "    .dataframe tbody tr th:only-of-type {\n",
              "        vertical-align: middle;\n",
              "    }\n",
              "\n",
              "    .dataframe tbody tr th {\n",
              "        vertical-align: top;\n",
              "    }\n",
              "\n",
              "    .dataframe thead th {\n",
              "        text-align: right;\n",
              "    }\n",
              "</style>\n",
              "<table border=\"1\" class=\"dataframe\">\n",
              "  <thead>\n",
              "    <tr style=\"text-align: right;\">\n",
              "      <th></th>\n",
              "      <th>bedrooms</th>\n",
              "      <th>bathrooms</th>\n",
              "      <th>sqft_living</th>\n",
              "      <th>sqft_lot</th>\n",
              "      <th>floors</th>\n",
              "      <th>waterfront</th>\n",
              "      <th>view</th>\n",
              "      <th>grade</th>\n",
              "      <th>sqft_above</th>\n",
              "      <th>sqft_basement</th>\n",
              "      <th>yr_built</th>\n",
              "      <th>zipcode</th>\n",
              "      <th>lat</th>\n",
              "      <th>long</th>\n",
              "      <th>sqft_living15</th>\n",
              "      <th>sqft_lot15</th>\n",
              "      <th>month</th>\n",
              "      <th>year</th>\n",
              "    </tr>\n",
              "  </thead>\n",
              "  <tbody>\n",
              "    <tr>\n",
              "      <th>0</th>\n",
              "      <td>3</td>\n",
              "      <td>1.00</td>\n",
              "      <td>1180</td>\n",
              "      <td>5650</td>\n",
              "      <td>1.0</td>\n",
              "      <td>0</td>\n",
              "      <td>0</td>\n",
              "      <td>7</td>\n",
              "      <td>1180</td>\n",
              "      <td>0</td>\n",
              "      <td>1955</td>\n",
              "      <td>98178</td>\n",
              "      <td>47.5112</td>\n",
              "      <td>-122.257</td>\n",
              "      <td>1340</td>\n",
              "      <td>5650</td>\n",
              "      <td>10</td>\n",
              "      <td>2014</td>\n",
              "    </tr>\n",
              "    <tr>\n",
              "      <th>1</th>\n",
              "      <td>3</td>\n",
              "      <td>2.25</td>\n",
              "      <td>2570</td>\n",
              "      <td>7242</td>\n",
              "      <td>2.0</td>\n",
              "      <td>0</td>\n",
              "      <td>0</td>\n",
              "      <td>7</td>\n",
              "      <td>2170</td>\n",
              "      <td>400</td>\n",
              "      <td>1951</td>\n",
              "      <td>98125</td>\n",
              "      <td>47.7210</td>\n",
              "      <td>-122.319</td>\n",
              "      <td>1690</td>\n",
              "      <td>7639</td>\n",
              "      <td>12</td>\n",
              "      <td>2014</td>\n",
              "    </tr>\n",
              "    <tr>\n",
              "      <th>2</th>\n",
              "      <td>2</td>\n",
              "      <td>1.00</td>\n",
              "      <td>770</td>\n",
              "      <td>10000</td>\n",
              "      <td>1.0</td>\n",
              "      <td>0</td>\n",
              "      <td>0</td>\n",
              "      <td>6</td>\n",
              "      <td>770</td>\n",
              "      <td>0</td>\n",
              "      <td>1933</td>\n",
              "      <td>98028</td>\n",
              "      <td>47.7379</td>\n",
              "      <td>-122.233</td>\n",
              "      <td>2720</td>\n",
              "      <td>8062</td>\n",
              "      <td>2</td>\n",
              "      <td>2015</td>\n",
              "    </tr>\n",
              "    <tr>\n",
              "      <th>3</th>\n",
              "      <td>4</td>\n",
              "      <td>3.00</td>\n",
              "      <td>1960</td>\n",
              "      <td>5000</td>\n",
              "      <td>1.0</td>\n",
              "      <td>0</td>\n",
              "      <td>0</td>\n",
              "      <td>7</td>\n",
              "      <td>1050</td>\n",
              "      <td>910</td>\n",
              "      <td>1965</td>\n",
              "      <td>98136</td>\n",
              "      <td>47.5208</td>\n",
              "      <td>-122.393</td>\n",
              "      <td>1360</td>\n",
              "      <td>5000</td>\n",
              "      <td>12</td>\n",
              "      <td>2014</td>\n",
              "    </tr>\n",
              "    <tr>\n",
              "      <th>4</th>\n",
              "      <td>3</td>\n",
              "      <td>2.00</td>\n",
              "      <td>1680</td>\n",
              "      <td>8080</td>\n",
              "      <td>1.0</td>\n",
              "      <td>0</td>\n",
              "      <td>0</td>\n",
              "      <td>8</td>\n",
              "      <td>1680</td>\n",
              "      <td>0</td>\n",
              "      <td>1987</td>\n",
              "      <td>98074</td>\n",
              "      <td>47.6168</td>\n",
              "      <td>-122.045</td>\n",
              "      <td>1800</td>\n",
              "      <td>7503</td>\n",
              "      <td>2</td>\n",
              "      <td>2015</td>\n",
              "    </tr>\n",
              "    <tr>\n",
              "      <th>...</th>\n",
              "      <td>...</td>\n",
              "      <td>...</td>\n",
              "      <td>...</td>\n",
              "      <td>...</td>\n",
              "      <td>...</td>\n",
              "      <td>...</td>\n",
              "      <td>...</td>\n",
              "      <td>...</td>\n",
              "      <td>...</td>\n",
              "      <td>...</td>\n",
              "      <td>...</td>\n",
              "      <td>...</td>\n",
              "      <td>...</td>\n",
              "      <td>...</td>\n",
              "      <td>...</td>\n",
              "      <td>...</td>\n",
              "      <td>...</td>\n",
              "      <td>...</td>\n",
              "    </tr>\n",
              "    <tr>\n",
              "      <th>21608</th>\n",
              "      <td>3</td>\n",
              "      <td>2.50</td>\n",
              "      <td>1530</td>\n",
              "      <td>1131</td>\n",
              "      <td>3.0</td>\n",
              "      <td>0</td>\n",
              "      <td>0</td>\n",
              "      <td>8</td>\n",
              "      <td>1530</td>\n",
              "      <td>0</td>\n",
              "      <td>2009</td>\n",
              "      <td>98103</td>\n",
              "      <td>47.6993</td>\n",
              "      <td>-122.346</td>\n",
              "      <td>1530</td>\n",
              "      <td>1509</td>\n",
              "      <td>5</td>\n",
              "      <td>2014</td>\n",
              "    </tr>\n",
              "    <tr>\n",
              "      <th>21609</th>\n",
              "      <td>4</td>\n",
              "      <td>2.50</td>\n",
              "      <td>2310</td>\n",
              "      <td>5813</td>\n",
              "      <td>2.0</td>\n",
              "      <td>0</td>\n",
              "      <td>0</td>\n",
              "      <td>8</td>\n",
              "      <td>2310</td>\n",
              "      <td>0</td>\n",
              "      <td>2014</td>\n",
              "      <td>98146</td>\n",
              "      <td>47.5107</td>\n",
              "      <td>-122.362</td>\n",
              "      <td>1830</td>\n",
              "      <td>7200</td>\n",
              "      <td>2</td>\n",
              "      <td>2015</td>\n",
              "    </tr>\n",
              "    <tr>\n",
              "      <th>21610</th>\n",
              "      <td>2</td>\n",
              "      <td>0.75</td>\n",
              "      <td>1020</td>\n",
              "      <td>1350</td>\n",
              "      <td>2.0</td>\n",
              "      <td>0</td>\n",
              "      <td>0</td>\n",
              "      <td>7</td>\n",
              "      <td>1020</td>\n",
              "      <td>0</td>\n",
              "      <td>2009</td>\n",
              "      <td>98144</td>\n",
              "      <td>47.5944</td>\n",
              "      <td>-122.299</td>\n",
              "      <td>1020</td>\n",
              "      <td>2007</td>\n",
              "      <td>6</td>\n",
              "      <td>2014</td>\n",
              "    </tr>\n",
              "    <tr>\n",
              "      <th>21611</th>\n",
              "      <td>3</td>\n",
              "      <td>2.50</td>\n",
              "      <td>1600</td>\n",
              "      <td>2388</td>\n",
              "      <td>2.0</td>\n",
              "      <td>0</td>\n",
              "      <td>0</td>\n",
              "      <td>8</td>\n",
              "      <td>1600</td>\n",
              "      <td>0</td>\n",
              "      <td>2004</td>\n",
              "      <td>98027</td>\n",
              "      <td>47.5345</td>\n",
              "      <td>-122.069</td>\n",
              "      <td>1410</td>\n",
              "      <td>1287</td>\n",
              "      <td>1</td>\n",
              "      <td>2015</td>\n",
              "    </tr>\n",
              "    <tr>\n",
              "      <th>21612</th>\n",
              "      <td>2</td>\n",
              "      <td>0.75</td>\n",
              "      <td>1020</td>\n",
              "      <td>1076</td>\n",
              "      <td>2.0</td>\n",
              "      <td>0</td>\n",
              "      <td>0</td>\n",
              "      <td>7</td>\n",
              "      <td>1020</td>\n",
              "      <td>0</td>\n",
              "      <td>2008</td>\n",
              "      <td>98144</td>\n",
              "      <td>47.5941</td>\n",
              "      <td>-122.299</td>\n",
              "      <td>1020</td>\n",
              "      <td>1357</td>\n",
              "      <td>10</td>\n",
              "      <td>2014</td>\n",
              "    </tr>\n",
              "  </tbody>\n",
              "</table>\n",
              "<p>21613 rows × 18 columns</p>\n",
              "</div>"
            ],
            "text/plain": [
              "       bedrooms  bathrooms  sqft_living  ...  sqft_lot15  month  year\n",
              "0             3       1.00         1180  ...        5650     10  2014\n",
              "1             3       2.25         2570  ...        7639     12  2014\n",
              "2             2       1.00          770  ...        8062      2  2015\n",
              "3             4       3.00         1960  ...        5000     12  2014\n",
              "4             3       2.00         1680  ...        7503      2  2015\n",
              "...         ...        ...          ...  ...         ...    ...   ...\n",
              "21608         3       2.50         1530  ...        1509      5  2014\n",
              "21609         4       2.50         2310  ...        7200      2  2015\n",
              "21610         2       0.75         1020  ...        2007      6  2014\n",
              "21611         3       2.50         1600  ...        1287      1  2015\n",
              "21612         2       0.75         1020  ...        1357     10  2014\n",
              "\n",
              "[21613 rows x 18 columns]"
            ]
          },
          "metadata": {
            "tags": []
          },
          "execution_count": 62
        }
      ]
    },
    {
      "cell_type": "code",
      "metadata": {
        "id": "vt6NQgO3WGCE",
        "colab_type": "code",
        "colab": {
          "base_uri": "https://localhost:8080/",
          "height": 101
        },
        "outputId": "aeb13c40-83c1-4e7c-8560-c611994c4d52"
      },
      "source": [
        "X.columns"
      ],
      "execution_count": 63,
      "outputs": [
        {
          "output_type": "execute_result",
          "data": {
            "text/plain": [
              "Index(['bedrooms', 'bathrooms', 'sqft_living', 'sqft_lot', 'floors',\n",
              "       'waterfront', 'view', 'grade', 'sqft_above', 'sqft_basement',\n",
              "       'yr_built', 'zipcode', 'lat', 'long', 'sqft_living15', 'sqft_lot15',\n",
              "       'month', 'year'],\n",
              "      dtype='object')"
            ]
          },
          "metadata": {
            "tags": []
          },
          "execution_count": 63
        }
      ]
    },
    {
      "cell_type": "code",
      "metadata": {
        "id": "DA-ZzgFHWH3G",
        "colab_type": "code",
        "colab": {}
      },
      "source": [
        "one_house=X.iloc[1].values.reshape(-1,18)\n",
        "one_house=scaler.transform(one_house)\n"
      ],
      "execution_count": 84,
      "outputs": []
    },
    {
      "cell_type": "code",
      "metadata": {
        "id": "GjI4dR2gWR_3",
        "colab_type": "code",
        "colab": {
          "base_uri": "https://localhost:8080/",
          "height": 34
        },
        "outputId": "32668668-e710-4438-8b46-5f3045a8cc64"
      },
      "source": [
        "explained_variance_score(y_test,model_predictions)"
      ],
      "execution_count": 85,
      "outputs": [
        {
          "output_type": "execute_result",
          "data": {
            "text/plain": [
              "0.8844971823411182"
            ]
          },
          "metadata": {
            "tags": []
          },
          "execution_count": 85
        }
      ]
    },
    {
      "cell_type": "code",
      "metadata": {
        "id": "evHEIHtsWeXd",
        "colab_type": "code",
        "colab": {
          "base_uri": "https://localhost:8080/",
          "height": 34
        },
        "outputId": "4691ce71-c9cf-4ab5-87b3-8e04d4bf51a8"
      },
      "source": [
        "model.predict(one_house)"
      ],
      "execution_count": 86,
      "outputs": [
        {
          "output_type": "execute_result",
          "data": {
            "text/plain": [
              "array([[488039.56]], dtype=float32)"
            ]
          },
          "metadata": {
            "tags": []
          },
          "execution_count": 86
        }
      ]
    },
    {
      "cell_type": "code",
      "metadata": {
        "id": "vx1DL-gBbeHy",
        "colab_type": "code",
        "colab": {
          "base_uri": "https://localhost:8080/",
          "height": 34
        },
        "outputId": "b86c5058-0622-403c-876f-aad4a0fbcf02"
      },
      "source": [
        "y[1]"
      ],
      "execution_count": 83,
      "outputs": [
        {
          "output_type": "execute_result",
          "data": {
            "text/plain": [
              "538000.0"
            ]
          },
          "metadata": {
            "tags": []
          },
          "execution_count": 83
        }
      ]
    },
    {
      "cell_type": "code",
      "metadata": {
        "id": "pk3Eh7-UbrTI",
        "colab_type": "code",
        "colab": {}
      },
      "source": [
        ""
      ],
      "execution_count": null,
      "outputs": []
    }
  ]
}